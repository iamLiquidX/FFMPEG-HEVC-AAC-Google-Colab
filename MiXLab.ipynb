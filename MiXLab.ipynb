{
  "cells": [
    {
      "cell_type": "markdown",
      "metadata": {
        "id": "view-in-github",
        "colab_type": "text"
      },
      "source": [
        "<a href=\"https://colab.research.google.com/github/iamLiquidX/FFMPEG-HEVC-AAC-Google-Colab/blob/master/MiXLab.ipynb\" target=\"_parent\"><img src=\"https://colab.research.google.com/assets/colab-badge.svg\" alt=\"Open In Colab\"/></a>"
      ]
    },
    {
      "cell_type": "markdown",
      "metadata": {
        "id": "GaegjvHPPW9q"
      },
      "source": [
        "# <font size=6><center>✦ *Mount/Unmount Storage* ✦</center></font>"
      ]
    },
    {
      "cell_type": "markdown",
      "metadata": {
        "id": "4sXeh7Tdx1v-"
      },
      "source": [
        "## <img src=\"https://upload.wikimedia.org/wikipedia/commons/d/da/Google_Drive_logo.png\" height=\"45\" align=\"left\" style=\"margin-right: 50px;\"/><font size=6>Google Drive</font>"
      ]
    },
    {
      "cell_type": "code",
      "execution_count": null,
      "metadata": {
        "cellView": "form",
        "id": "LkGoo1n9PNgj"
      },
      "outputs": [],
      "source": [
        "# ------------------------------#------------------------------ #\n",
        "#@markdown <font size='5'>← Mount / Unmount Google Drive</font>\n",
        "\n",
        "mode = \"mount\" #@param [\"mount\", \"unmount\", \"force_remount\"]\n",
        "mount_path = \"\" #@param {type:\"string\"}\n",
        "\n",
        "#@markdown Leave it blank to use the default mounting path (```/content/drive```).\n",
        "# ------------------------------#------------------------------\n",
        "\n",
        "from IPython.display import clear_output\n",
        "from google.colab import drive\n",
        "\n",
        "\n",
        "def mount(path=''):\n",
        "    if path == '':\n",
        "        path = '/content/drive'\n",
        "\n",
        "    try:\n",
        "        drive.mount(path, force_remount=True)\n",
        "    except Exception as error:\n",
        "        print(f'[ERROR!]: {error}')\n",
        "\n",
        "    return\n",
        "\n",
        "def unmount():\n",
        "    try:\n",
        "        drive.flush_and_unmount()\n",
        "    except Exception as error:\n",
        "        print(f'[ERROR!]: {error}')\n",
        "    else:\n",
        "        get_ipython().system_raw(\"rm -rf /root/.config/Google/DriveFS\")\n",
        "\n",
        "    return\n",
        "\n",
        "def main():\n",
        "    path = mount_path\n",
        "\n",
        "    if mode == 'mount':\n",
        "        mount(path)\n",
        "    elif mode == 'unmount':\n",
        "        unmount()\n",
        "    else:\n",
        "        mount(path)\n",
        "\n",
        "if __name__ == '__main__':\n",
        "    main()\n"
      ]
    },
    {
      "cell_type": "markdown",
      "metadata": {
        "id": "OOpAjMjxsNd6"
      },
      "source": [
        "# <font size=6 color=red><center>✦ *EXPERIMENTAL* ✦</center></font>\n",
        "\n",
        "<font size=4 color=red><center>**Everything in this section is in EXPERIMENTAL state and/or UNFINISHED and/or LEFT AS IS!  \n",
        "Any issue regarding this section will be IGNORED!**</center></font>"
      ]
    },
    {
      "cell_type": "markdown",
      "metadata": {
        "id": "UdiQLlm5zX3_"
      },
      "source": [
        "## <font size=6>FFMPEG 1</font>\n",
        "<font size=4 color=red>GPU runtime needed!</font>"
      ]
    },
    {
      "cell_type": "markdown",
      "metadata": {
        "id": "EFOqhHG6hOVH"
      },
      "source": [
        "### ***Required to use Scripts:*** Install FFmpeg, VCSI & Mkvtoolnix"
      ]
    },
    {
      "cell_type": "code",
      "execution_count": null,
      "metadata": {
        "cellView": "form",
        "id": "G3JHGE0Jtzme"
      },
      "outputs": [],
      "source": [
        "#@markdown <h3>← Click Here to Install FFmpeg, VCSI, Mkvtoolnix, Firefox, Furiousmount & Handbrake</h3>\n",
        "\n",
        "#@title <font size=\"5\">← ឵឵<i>Upgrade FFmpeg to v4.2.2</font> { vertical-output: true }\n",
        "from IPython.display import clear_output\n",
        "import os, urllib.request\n",
        "HOME = os.path.expanduser(\"~\")\n",
        "pathDoneCMD = f'{HOME}/doneCMD.sh'\n",
        "if not os.path.exists(f\"{HOME}/.ipython/ttmg.py\"):\n",
        "    hCode = \"https://raw.githubusercontent.com/totalleecher/\" \\\n",
        "                \"Google-Colab-CloudTorrent/master/res/ttmg.py\"\n",
        "    urllib.request.urlretrieve(hCode, f\"{HOME}/.ipython/ttmg.py\")\n",
        "\n",
        "from ttmg import (\n",
        "    loadingAn,\n",
        "    textAn,\n",
        ")\n",
        "\n",
        "loadingAn(name=\"lds\")\n",
        "textAn(\"Installing Dependencies...\", ty='twg')\n",
        "#os.system('pip install git+git://github.com/AWConant/jikanpy.git') //GPU Not supported\n",
        "#os.system('add-apt-repository -y ppa:jonathonf/ffmpeg-4') //GPU Not supported\n",
        "os.system('apt-get update')\n",
        "os.system('apt-get install ffmpeg')\n",
        "os.system('apt-get install mkvtoolnix')\n",
        "os.system('pip install vcsi')\n",
        "#os.system('sudo apt-get install synaptic')\n",
        "#os.system('sudo apt install firefox')\n",
        "os.system('sudo add-apt-repository ppa:stebbins/handbrake-releases -y')\n",
        "os.system('sudo apt update -y')\n",
        "os.system('sudo apt install --install-recommends handbrake-gtk handbrake-cli')\n",
        "#os.system('sudo apt-get install furiusisomount')\n",
        "\n",
        "clear_output()\n",
        "print(\"Install Finished\")"
      ]
    },
    {
      "cell_type": "markdown",
      "metadata": {
        "id": "ey6-UveDalxR"
      },
      "source": [
        "### » Re-encode a Video to a Different Resolution (*H265*) - Need GPU - Nvidia Telsa P100 or T4 (Support Both Single & Batch Processing)"
      ]
    },
    {
      "cell_type": "code",
      "execution_count": null,
      "metadata": {
        "cellView": "form",
        "id": "tsY6jhC9SXvF"
      },
      "outputs": [],
      "source": [
        "#@title Check GPU\n",
        "#@markdown Run this to connect to a Colab Instance, and see what GPU Google gave you.\n",
        "\n",
        "gpu = !nvidia-smi --query-gpu=gpu_name --format=csv\n",
        "print(gpu[1])\n",
        "print(\"The Tesla T4 and P100 are fast and support hardware encoding. The K80 and P4 are slower.\")\n",
        "print(\"Sometimes resetting the instance in the 'runtime' tab will give you a different GPU.\")"
      ]
    },
    {
      "cell_type": "code",
      "execution_count": null,
      "metadata": {
        "cellView": "form",
        "id": "Zam_JHPDalxc"
      },
      "outputs": [],
      "source": [
        "path = \"\" #@param {type:\"string\"}\n",
        "save_txt = False #@param {type:\"boolean\"}\n",
        "import os, uuid, re, IPython\n",
        "import ipywidgets as widgets\n",
        "import time\n",
        "\n",
        "from glob import glob\n",
        "from IPython.display import HTML, clear_output\n",
        "from google.colab import output, drive\n",
        "\n",
        "def mediainfo():\n",
        "  display(HTML(\"<br>\"))\n",
        "#   print(path.split(\"/\")[::-1][0])\n",
        "  display(HTML(\"<br>\"))\n",
        "#   media = !mediainfo \"$path\"\n",
        "#   media = \"\\n\".join(media).replace(os.path.dirname(path)+\"/\", \"\")\n",
        "  get_ipython().system_raw(\"\"\"mediainfo --LogFile=\"/root/.nfo\" \"$path\" \"\"\")\n",
        "  with open('/root/.nfo', 'r') as file:\n",
        "    media = file.read()\n",
        "    media = media.replace(os.path.dirname(path)+\"/\", \"\")\n",
        "  print(media)\n",
        "  get_ipython().system_raw(\"rm -f '/root/.nfo'\")\n",
        "\n",
        "  if save_txt:\n",
        "    txt = path.rpartition('.')[0] + \".txt\"\n",
        "    if os.path.exists(txt):\n",
        "      get_ipython().system_raw(\"rm -f '$txt'\")\n",
        "    !curl -s https://pastebin.com/raw/TApKLQfM -o \"$txt\"\n",
        "    with open(txt, 'a+') as file:\n",
        "      file.write(\"\\n\\n\")\n",
        "      file.write(media)\n",
        "\n",
        "while not os.path.exists(\"/content/drive\"):\n",
        "  try:\n",
        "    drive.mount(\"/content/drive\")\n",
        "    clear_output(wait=True)\n",
        "  except:\n",
        "    clear_output()\n",
        "\n",
        "if not os.path.exists(\"/usr/bin/mediainfo\"):\n",
        "  get_ipython().system_raw(\"apt-get install mediainfo\")\n",
        "\n",
        "mediainfo()"
      ]
    },
    {
      "cell_type": "code",
      "execution_count": null,
      "metadata": {
        "cellView": "form",
        "id": "SHBPElqualx6"
      },
      "outputs": [],
      "source": [
        "import os, sys, re\n",
        "#@markdown <b>Encoder</b>\n",
        "Encoder = \"CPU\" #@param [\"GPU\", \"CPU\"]\n",
        "codec = \"x264\" #@param [\"x264\", \"x265\"]\n",
        "#@markdown <b>Encoding all videos in folder</b>\n",
        "video_folder_path = '' #@param {type:\"string\"}\n",
        "#@markdown ---\n",
        "#@markdown <b>Encoding selected videos</b>\n",
        "video_file_path1 = '' #@param {type:\"string\"}\n",
        "video_file_path2 = '' #@param {type:\"string\"}\n",
        "video_file_path3 = '' #@param {type:\"string\"}\n",
        "video_file_path4 = '' #@param {type:\"string\"}\n",
        "video_file_path5 = '' #@param {type:\"string\"}\n",
        "\n",
        "#counting\n",
        "if video_file_path1 != \"\":\n",
        "  coa = 1\n",
        "else:\n",
        "  coa = 0\n",
        "\n",
        "if video_file_path2 != \"\":\n",
        "  cob = 1\n",
        "else:\n",
        "  cob = 0\n",
        "\n",
        "if video_file_path3 != \"\":\n",
        "  coc = 1\n",
        "else:\n",
        "  coc = 0\n",
        "\n",
        "if video_file_path4 != \"\":\n",
        "  cod = 1\n",
        "else:\n",
        "  cod = 0\n",
        "\n",
        "if video_file_path5 != \"\":\n",
        "  coe = 1\n",
        "else:\n",
        "  coe = 0\n",
        "\n",
        "#@markdown ---\n",
        "resolution = '360p' #@param [\"2160p\",\"1440p\",\"1080p\", \"720p\", \"480p\", \"360p\", \"240p\", \"same as input\"]\n",
        "encode_setting = 'Advance' #@param [\"Advance\", \"HEVC\", \"HEVC 10 Bit\"]\n",
        "file_type = 'mkv' #@param [\"mkv\", \"mp4\"]\n",
        "rip_audio = False #@param {type:\"boolean\"}\n",
        "rip_subtitle = False #@param {type:\"boolean\"}\n",
        "\n",
        "if rip_audio == False:\n",
        "  rip_audio_string =  \"-acodec copy\"\n",
        "else:\n",
        "  rip_audio_string =  \"-an\"\n",
        "\n",
        "if rip_subtitle == False:\n",
        "  rip_subtitle_string = \"-scodec copy\"\n",
        "else:\n",
        "  rip_subtitle_string = \"-sn\"\n",
        "\n",
        "\n",
        "if resolution == '2160p':\n",
        "   w = '3840'\n",
        "elif resolution == '1440p':\n",
        "   w = '2560'\n",
        "elif resolution == '1080p':\n",
        "   w = '1980'\n",
        "elif resolution == '720p':\n",
        "   w = '1280'\n",
        "elif resolution == '480p':\n",
        "   w = '854'\n",
        "elif resolution == '360p':\n",
        "   w = '640'\n",
        "elif resolution == '240p':\n",
        "   w = '426'\n",
        "else:\n",
        "   w = ''\n",
        "\n",
        "if  (w == '3840' or w == '2560' or w == '1980' or w == '1280' or w == '854' or w == '640' or w == '426'):\n",
        "  scale_string = \"-vf  scale=\"+(w)+\":-1:flags=lanczos\"\n",
        "else:\n",
        "  scale_string = \"\"\n",
        "\n",
        "ext = \".mp4\",\".MP4\",\".MTS\",\".mts\",\".m2ts\",\".mkv\",\".avi\",\".MOV\",\".mov\",\".wmv\",\".WMV\",\".flv\",\".mpg\",\".webm\",\".WEBM\"\n",
        "# As file at filePath is deleted now, so we should check if file exists or not not before deleting them\n",
        "filePath = \"ffmpeg.txt\"\n",
        "if os.path.exists(filePath):\n",
        "     os.remove(filePath)\n",
        "\n",
        "if video_folder_path == \"\":\n",
        " #try:\n",
        "  f = open(\"ffmpeg.txt\", \"+w\")\n",
        "  x = (video_file_path1) + \"\\n\" + (video_file_path2) + \"\\n\" +(video_file_path3) + \"\\n\" +(video_file_path4) +\"\\n\" + (video_file_path5)\n",
        "  f.write(x)\n",
        "  f.close()\n",
        "  count = coa+cob+coc+cod+coe\n",
        " #except:\n",
        "  #err = 1\n",
        "\n",
        "else:\n",
        "#writing temp file\n",
        " for file in os.listdir(video_folder_path):\n",
        "    if file.endswith(tuple(ext)):\n",
        "\n",
        "     x = os.path.join(video_folder_path, file)\n",
        "     #print(x)\n",
        "     print(x, file=open(\"ffmpeg.txt\", \"+a\"))\n",
        "\n",
        "#counting line\n",
        " thefilepath = \"ffmpeg.txt\"\n",
        " count = len(open(thefilepath).readlines(  ))\n",
        "\n",
        "#@markdown ---\n",
        "#@markdown <h4>Advance Settings</h4>\n",
        "#@markdown <b>Video Setting</b>\n",
        "preset = 'slow' #@param [\"slow\", \"medium\", \"fast\", \"hq\", \"hp\", \"bd\", \"ll\", \"llhq\", \"llhp\", \"lossless\", \"losslesshp\"]\n",
        "level = '5.2' #@param [\"default\",\"4.1\", \"5.1\", \"5.2\", \"6.2\"]\n",
        "tier = 'main' #@param [\"default\",\"main\", \"high\"]\n",
        "#@markdown <code>Setting only for GPU Encoding</code>\n",
        "profile = 'main' #@param [\"main\", \"main10\", \"rext\"]\n",
        "pixfmt = 'p010le' #@param [\"nv12\", \"yuv420p\", \"p010le\", \"yuv444p\", \"p016le\", \"yuv444p16le\"]\n",
        "rc = 'vbr_hq' #@param [\"vbr\", \"cbr\", \"vbr_2pass\", \"ll_2pass_size\", \"vbr_hq\", \"cbr_hq\"]\n",
        "rcla = '32' #@param [\"8\", \"16\", \"32\", \"64\"]\n",
        "overall_bitrate = 2500 #@param {type:\"slider\", min:500, max:10000, step:100}\n",
        "max_bitrate = 20000 #@param {type:\"slider\", min:500, max:50000, step:100}\n",
        "buffer_size = 60000 #@param {type:\"slider\", min:500, max:90000, step:100}\n",
        "deblock = -3 #@param {type:\"slider\", min:-6, max:6, step:1}\n",
        "reframe = 5 #@param {type:\"slider\", min:1, max:6, step:1}\n",
        "surfaces = 64 #@param {type:\"slider\", min:0, max:64, step:1}\n",
        "#@markdown <code>Setting only for CPU Encoding</code>\n",
        "profile_cpu = 'main10' #@param [\"main10\"]\n",
        "pixfmt_cpu = 'yuv420p10le' #@param [\"yuv420p\",\"yuv420p10le\",\"yuv444p\",\"yuv444p16le\"]\n",
        "threads = 16 #@param {type:\"slider\", min:0, max:16, step:1}\n",
        "crf = 28 #@param {type:\"slider\", min:0, max:30, step:1}\n",
        "\n",
        "\n",
        "if level != \"default\":\n",
        "  l_string =  \"-level \"+str(level)\n",
        "else:\n",
        "  l_string =\"\"\n",
        "\n",
        "if tier != \"default\":\n",
        " t_string =  \"-tier \"+str(tier)\n",
        "else:\n",
        " t_string = \"\"\n",
        "\n",
        "#tp = '1' #@param [\"0\", \"1\"]\n",
        "#cq = '21' #@param {type:\"string\"}\n",
        "#qm ='21' #@param {type:\"string\"}\n",
        "#qmx = '27' #@param {type:\"string\"}\n",
        "#qp = '23' #@param {type:\"string\"}\n",
        "#qb = '25' #@param {type:\"string\"}\n",
        "#qi = '21' #@param {type:\"string\"}\n",
        "\n",
        "#@markdown <b>Audio Setting</b>\n",
        "\n",
        "audio_output = 'No audio' #@param [\"None\", \"copy\", \"flac\", \"aac\", \"libopus\", \"eac3\", \"No audio\", \"same as input\"]\n",
        "channel = 'same as input' #@param [\"DownMix 2CH\", \"same as input\"]\n",
        "\n",
        "if audio_output == \"same as input\":\n",
        "  audio_string = \"-acodec copy\"\n",
        "elif audio_output == \"No audio\":\n",
        "  audio_string = \"-an\"\n",
        "elif audio_output == \"None\":\n",
        "  audio_string = \"\"\n",
        "else:\n",
        "  audio_string = \"-c:a \"+(audio_output)\n",
        "\n",
        "if channel == \"DownMix 2CH\":\n",
        "  channel_string =\"-ac 2\"\n",
        "else:\n",
        "  channel_string =\"\"\n",
        "\n",
        "#@markdown <b>Subtitle Setting</b>\n",
        "#@markdown <h5>Please use <code>ass</code> file for hardsub</h5>\n",
        "hardsub = False #@param {type:\"boolean\"}\n",
        "subtitle_option = 'same as input' #@param [\"None\",\"No sub\", \"Add custom sub\",\"same as input\"]\n",
        "custom_subtitle_path = \"\" #@param {type:\"string\"}\n",
        "\n",
        "#@markdown <b>Custom Added Setting</b>\n",
        "custom_command = \"\" #@param {type:\"string\"}\n",
        "\n",
        "\n",
        "if hardsub == False:\n",
        "\n",
        " if subtitle_option == \"No sub\":\n",
        "  subtitle_string = \"-sn\"\n",
        " elif subtitle_option == \"same as input\":\n",
        "  subtitle_string = \"-scodec copy\"\n",
        " elif subtitle_option == \"None\":\n",
        "  subtitle_string = \"\"\n",
        " else:\n",
        "  subtitle_string = \"-i \"+(custom_subtitle_path)\n",
        "\n",
        "else:\n",
        "  subtitle_string = \"ass=\"+(custom_subtitle_path)\n",
        "#=================\n",
        "if custom_command != \"\":\n",
        " c_string = custom_command\n",
        "else:\n",
        " c_string = \"\"\n",
        "#=================\n",
        "\n",
        "os.environ['ps'] = preset\n",
        "os.environ['pf'] = profile\n",
        "os.environ['pf_cpu'] = profile_cpu\n",
        "os.environ['pfm'] = pixfmt\n",
        "os.environ['pfmcpu'] = pixfmt_cpu\n",
        "os.environ['br'] = str(overall_bitrate)\n",
        "os.environ['max'] = str(max_bitrate)\n",
        "os.environ['buff'] = str(buffer_size)\n",
        "os.environ['de'] = str(deblock)\n",
        "os.environ['ref'] = str(reframe)\n",
        "os.environ['sur'] = str(surfaces)\n",
        "os.environ['lv'] = l_string\n",
        "os.environ['ti'] = t_string\n",
        "os.environ['rc'] = rc\n",
        "os.environ['rl'] = rcla\n",
        "os.environ['thr'] = str(threads)\n",
        "os.environ['crf'] = str(crf)\n",
        "os.environ['res'] = resolution\n",
        "#os.environ['tp'] = tp\n",
        "#os.environ['cq'] = cq\n",
        "#os.environ['qP'] = qp\n",
        "#os.environ['qB'] = qb\n",
        "#os.environ['qI'] = qi\n",
        "#os.environ['qm'] = qm\n",
        "#os.environ['qmx'] = qmx\n",
        "os.environ['scs'] = str(scale_string)\n",
        "os.environ['aus'] = audio_string\n",
        "os.environ['chc'] = channel_string\n",
        "os.environ['sus'] = subtitle_string\n",
        "os.environ['cus'] = str(c_string)\n",
        "#=================\n",
        "#Batch Encoding\n",
        "if count != 0:\n",
        " f=open('ffmpeg.txt')\n",
        " lines=f.readlines()\n",
        "\n",
        " i = 0\n",
        " while i < count:\n",
        "  video_file_path = lines[i]\n",
        "  video_file_path = video_file_path.rstrip(\"\\n\")\n",
        "  #print(video_file_path)\n",
        "\n",
        "  delsplit = re.search(\"\\/(?:.(?!\\/))+$\", video_file_path)\n",
        "  testsplit = video_file_path.split(\"/\")\n",
        "  filename = re.sub(\"^[\\/]\", \"\", delsplit.group(0))\n",
        "  filename_raw = re.sub(\".{4}$\", \"\", filename)\n",
        "  resolution_raw = re.search(\"[^p]{3,4}\", resolution)\n",
        "  output_file_path = re.search(\"^[\\/].+\\/\", video_file_path)\n",
        "\n",
        "  os.environ['inputFile'] = video_file_path\n",
        "  os.environ['outputPath'] = output_file_path.group(0)\n",
        "  os.environ['fileName'] = filename_raw\n",
        "  os.environ['fileType'] = file_type\n",
        "  os.environ['resolutionWidth'] = resolution_raw.group(0)\n",
        "\n",
        "  if Encoder == \"GPU\":\n",
        "   if codec == \"x265\":\n",
        "    if encode_setting == \"Advance\":\n",
        "\n",
        "     !ffmpeg -hwaccel cuvid -i \"$inputFile\" -stats -flags +loop -c:v hevc_nvenc -preset:v \"$ps\" -rc \"$rc\" -2pass 1 -b:v \"$br\"k -maxrate \"$max\"k -bufsize \"$buff\"k -profile:v \"$pf\" $lv $ti -pix_fmt \"$pfm\" -rc-lookahead \"$rl\" -no-scenecut 1 -weighted_pred 1 -deblock:v \"$de\":\"$de\" -refs:v \"$ref\" -surfaces \"$sur\" $scs $aus $chs $sus $cus \"$outputPath\"/\"$fileName\"-\"$res\".\"$fileType\"\n",
        "\n",
        "    elif encode_setting == \"HEVC\":\n",
        "     !ffmpeg -hwaccel cuvid -i \"$inputFile\" -stats -flags +loop -c:v hevc_nvenc -preset:v slow -rc vbr_hq -2pass 1 -b:v 2500k -maxrate 20M -bufsize 60M -cq 1 -forced-idr 1 -nonref_p 1 -pix_fmt p010le -rc-lookahead 32 -no-scenecut 1  -weighted_pred 1 -deblock:v -3:-3 -refs:v 5  -surfaces 64 $scs $aus $sus \"$outputPath\"/\"$fileName\"-\"$res\".\"$fileType\"\n",
        "\n",
        "    else:\n",
        "     !ffmpeg -hwaccel cuvid  -stats -flags +loop -c:v hevc_nvenc -preset:v slow -rc vbr_hq -2pass 1 -b:v 2500k -maxrate 20M -bufsize 60M -cq 1 -forced-idr 1 -nonref_p 1 -profile:v main10 -pix_fmt p010le -rc-lookahead 32 -no-scenecut 1  -weighted_pred 1 -deblock:v -3:-3 -refs:v 5  -surfaces 64 $scs $aus $sus \"$outputPath\"/\"$fileName\"-\"$res\".\"$fileType\"\n",
        "   else:\n",
        "     !ffmpeg -hwaccel cuvid -i \"$inputFile\" -c:v h264_cuvid $scs $aus $sus \"$outputPath\"/\"$fileName\"-\"$res\".\"$fileType\"\n",
        "\n",
        "  else:\n",
        "   if codec == \"x265\":\n",
        "    if encode_setting == \"Advance\":\n",
        "     !ffmpeg -i \"$inputFile\" -flags +loop -c:v libx265 -profile:v \"$pf_cpu\" $lv $ti -pix_fmt \"$pfmcpu\" -threads \"$thr\" -thread_type frame -preset:v \"$ps\" -crf \"$crf\" -x265-params \"rc-lookahead=40:bframes=4:b-adapt=2:ref=6:aq-mode=0:aq-strength=0:aq-motion=0:me=hex:subme=3:max-merge=3:weightb=1:no-fast-intra=1:tskip-fast=0:rskip=0:strong-intra-smoothing=0:b-intra=1:early-skip=0:sao=0:rd=1:psy-rd=0:deblock=-5,-5\" $scs $aus $chs  $sus $cus \"$outputPath\"/\"$fileName\"-\"$res\".\"$fileType\"\n",
        "\n",
        "    elif encode_setting == \"HEVC\":\n",
        "     !ffmpeg -i \"$inputFile\" -c:v libx265 -crf 28 -threads 6 -thread_type frame $scs $aus $sus \"$outputPath\"/\"$fileName\"-\"$res\".\"$fileType\"\n",
        "\n",
        "    else:\n",
        "     !ffmpeg -i \"$inputFile\" -c:v libx265 -profile:v main10 -crf 28 -threads 6 -thread_type frame $scs $aus $sus \"$outputPath\"/\"$fileName\"-\"$res\".\"$fileType\"\n",
        "   else:\n",
        "     !ffmpeg -hide_banner -i \"$inputFile\" -c:v libx264 -preset \"$ps\" -crf \"$crf\" -threads \"$thr\" -strict experimental $scs $aus $sus \"$outputPath\"/\"$fileName\"-\"$res\".\"$fileType\"\n",
        "\n",
        "  i += 1\n",
        "\n",
        " else:\n",
        "  print(\"All Finished\")\n",
        "  os.remove(filePath)\n",
        "else:\n",
        "  print(\"Please input file or folder path\")\n",
        "#End of Code V1.5 - Codemater -"
      ]
    },
    {
      "cell_type": "markdown",
      "metadata": {
        "id": "GahMjYf8miNs"
      },
      "source": [
        "### » Generate Thumbnails - Preview from Video"
      ]
    },
    {
      "cell_type": "code",
      "execution_count": null,
      "metadata": {
        "cellView": "form",
        "id": "0nY7QbDIrnGl"
      },
      "outputs": [],
      "source": [
        "#@markdown <h3>← Click Here to generate thumbnail for all video in input folder path</h3>\n",
        "\n",
        "import os\n",
        "folder_path = \"\" #@param {type:\"string\"}\n",
        "ext = \".mp4\",\".MP4\",\".MTS\",\".mts\",\".m2ts\",\".mkv\",\".avi\",\".MOV\",\".mov\",\".wmv\",\".WMV\",\".flv\",\".mpg\",\".webm\",\".WEBM\"\n",
        "video_path = '' #@param {type:\"string\"}\n",
        "\n",
        "\n",
        "#counting\n",
        "if video_path != \"\":\n",
        "  count = 1\n",
        "else:\n",
        "  count = 0\n",
        "\n",
        "# As file at filePath is deleted now, so we should check if file exists or not not before deleting them\n",
        "filePath = \"vcsi.txt\"\n",
        "if os.path.exists(filePath):\n",
        "     os.remove(filePath)\n",
        "\n",
        "\n",
        "\n",
        "if (folder_path == \"\") and (video_path != \"\"):\n",
        " #try:\n",
        "  f = open(\"vcsi.txt\", \"+w\")\n",
        "  f.write(video_path)\n",
        "  f.close()\n",
        "  count = 1\n",
        "\n",
        "elif (folder_path == \"\") and (video_path == \"\"):\n",
        "  count = 0\n",
        "\n",
        "else:\n",
        "#writing temp file\n",
        " for file in os.listdir(folder_path):\n",
        "    if file.endswith(tuple(ext)):\n",
        "\n",
        "     x = os.path.join(folder_path, file)\n",
        "     #print(x)\n",
        "     print(x, file=open(\"vcsi.txt\", \"+a\"))\n",
        "\n",
        "#counting line\n",
        " thefilepath = \"vcsi.txt\"\n",
        " count = len(open(thefilepath).readlines(  ))\n",
        "\n",
        "\n",
        "import os, sys, re\n",
        "from IPython.display import Image, display\n",
        "os.makedirs(\"/content/drive/My Drive/Thumbnail\", exist_ok=True)\n",
        "\n",
        "output_file_type = 'png' #@param [\"png\", \"jpg\"]\n",
        "creation_engine = 'vcsi' #@param [\"ffmpeg\", \"vcsi\"]\n",
        "output_path = 'same folder' #@param [\"same folder\", \"My Drive/Thumbnail\"]\n",
        "#@markdown <code>Eg : gird 3 = 3x3</code>\n",
        "grid = 4 #@param {type:\"slider\", min:1, max:20, step:1}\n",
        "default_grid = True #@param {type:\"boolean\"}\n",
        "time_stamp = False #@param {type:\"boolean\"}\n",
        "\n",
        "\n",
        "if time_stamp == True:\n",
        "  t_string = \"-t\"\n",
        "else:\n",
        "  t_string = \"\"\n",
        "\n",
        "if default_grid == False:\n",
        "  g_string = \"-g \" + str(grid) + \"x\" + str(grid)\n",
        "else:\n",
        "  g_string = \"\"\n",
        "\n",
        "os.environ['ts'] = t_string\n",
        "os.environ['gs'] = g_string\n",
        "#Batch Encoding\n",
        "if count != 0:\n",
        " f=open('vcsi.txt')\n",
        " lines=f.readlines()\n",
        "\n",
        " i = 0\n",
        " while i < count:\n",
        "  video_file_path = lines[i]\n",
        "  video_file_path = video_file_path.rstrip(\"\\n\")\n",
        "  print(video_file_path)\n",
        "\n",
        "  output_file_path = re.search(\"^[\\/].+\\/\", video_file_path)\n",
        "  output_file_path_raw = output_file_path.group(0)\n",
        "  delsplit = re.search(\"\\/(?:.(?!\\/))+$\", video_file_path)\n",
        "  filename = re.sub(\"^[\\/]\", \"\", delsplit.group(0))\n",
        "  filename_raw = re.sub(\".{4}$\", \"\", filename)\n",
        "  file_extension = re.search(\".{3}$\", filename)\n",
        "  file_extension_raw = file_extension.group(0)\n",
        "\n",
        "  os.environ['inputFile'] = video_file_path\n",
        "  os.environ['outputPath'] = output_file_path_raw\n",
        "  os.environ['outputExtension'] = output_file_type\n",
        "  os.environ['fileName'] = filename_raw\n",
        "  os.environ['fileExtension'] = file_extension_raw\n",
        "\n",
        "  if output_path == \"same folder\":\n",
        "     if creation_engine == 'ffmpeg':\n",
        "      !ffmpeg -hide_banner -i \"$inputFile\" -vframes 1 -q:v 0 -vf \"select=not(mod(n\\,200)),scale=-1:480,tile=3x2\" -an \"$outputPath\"/\"$fileName\"_thumbnails.\"$outputExtension\"\n",
        "\n",
        "  if output_path == \"same folder\":\n",
        "     if creation_engine == 'vcsi':\n",
        "      !vcsi $ts $gs \"$inputFile\" -o \"$outputPath\"/\"$fileName\"_thumbnails.\"$outputExtension\"\n",
        "\n",
        "  if not output_path == \"same folder\":\n",
        "      !vcsi $ts $gs \"$inputFile\" -o \"/content/drive/My Drive/Thumbnail\"/\"$fileName\"_thumbnails.\"$outputExtension\"\n",
        "\n",
        "  i += 1\n",
        "\n",
        " else:\n",
        "  print(\"All Finished\")\n",
        "  os.remove(filePath)\n",
        "else:\n",
        "  print(\"Please video file or folder path\")\n",
        "#End of Code V1.2 - Codemater -"
      ]
    },
    {
      "cell_type": "markdown",
      "metadata": {
        "id": "NQ0TxfKeghR8"
      },
      "source": [
        "### » Misc."
      ]
    },
    {
      "cell_type": "code",
      "execution_count": null,
      "metadata": {
        "cellView": "form",
        "id": "Ls4O5VLwief-"
      },
      "outputs": [],
      "source": [
        "#@title Convert *.mkv* ➔ *.mp4* (Lossless)\n",
        "import os, sys, re\n",
        "\n",
        "video_file_path = \"\" #@param {type:\"string\"}\n",
        "\n",
        "output_file_path = re.search(\"^[\\/].+\\/\", video_file_path)\n",
        "output_file_path_raw = output_file_path.group(0)\n",
        "delsplit = re.search(\"\\/(?:.(?!\\/))+$\", video_file_path)\n",
        "filename = re.sub(\"^[\\/]\", \"\", delsplit.group(0))\n",
        "filename_raw = re.sub(\".{4}$\", \"\", filename)\n",
        "\n",
        "os.environ['inputFile'] = video_file_path\n",
        "os.environ['outputFile'] = filename_raw\n",
        "os.environ['outputPath'] = output_file_path_raw\n",
        "\n",
        "!ffmpeg -hide_banner -i \"$inputFile\" -c copy -strict experimental \"$outputPath\"\"$outputFile\".mp4"
      ]
    },
    {
      "cell_type": "code",
      "execution_count": null,
      "metadata": {
        "cellView": "form",
        "id": "iFBUeQhn7QTc"
      },
      "outputs": [],
      "source": [
        "#@title Convert Trim Video File (Lossless)\n",
        "\n",
        "import os, sys, re\n",
        "\n",
        "video_file_path = \"\" #@param {type:\"string\"}\n",
        "start_time = \"00:00:00.000\" #@param {type:\"string\"}\n",
        "end_time = \"00:01:00.000\" #@param {type:\"string\"}\n",
        "\n",
        "output_file_path = re.search(\"^[\\/].+\\/\", video_file_path)\n",
        "output_file_path_raw = output_file_path.group(0)\n",
        "delsplit = re.search(\"\\/(?:.(?!\\/))+$\", video_file_path)\n",
        "filename = re.sub(\"^[\\/]\", \"\", delsplit.group(0))\n",
        "filename_raw = re.sub(\".{4}$\", \"\", filename)\n",
        "file_extension = re.search(\".{3}$\", filename)\n",
        "file_extension_raw = file_extension.group(0)\n",
        "\n",
        "os.environ['inputFile'] = video_file_path\n",
        "os.environ['outputPath'] = output_file_path_raw\n",
        "os.environ['startTime'] = start_time\n",
        "os.environ['endTime'] = end_time\n",
        "os.environ['fileName'] = filename_raw\n",
        "os.environ['fileExtension'] = file_extension_raw\n",
        "\n",
        "!ffmpeg -hide_banner -i \"$inputFile\" -ss \"$startTime\" -to \"$endTime\" -c copy \"$outputPath\"/\"$fileName\"-TRIM.\"$fileExtension\""
      ]
    },
    {
      "cell_type": "code",
      "execution_count": null,
      "metadata": {
        "cellView": "form",
        "id": "nSeO98YQoTJe"
      },
      "outputs": [],
      "source": [
        "#@title Extract Audio from Video File (Lossless)\n",
        "\n",
        "import os, sys, re\n",
        "\n",
        "video_file_path = \"\" #@param {type:\"string\"}\n",
        "output_file_extension = 'm4a' #@param [\"m4a\", \"mp3\", \"opus\", \"flac\", \"wav\"]\n",
        "\n",
        "delsplit = re.search(\"\\/(?:.(?!\\/))+$\", video_file_path)\n",
        "output_file_path = re.search(\"^[\\/].+\\/\", video_file_path)\n",
        "filename = re.sub(\"^[\\/]\", \"\", delsplit.group(0))\n",
        "filename_raw = re.sub(\".{4}$\", \"\", filename)\n",
        "\n",
        "os.environ['inputFile'] = video_file_path\n",
        "os.environ['outputPath'] = output_file_path.group(0)\n",
        "os.environ['fileName'] = filename_raw\n",
        "os.environ['fileType'] = output_file_extension\n",
        "\n",
        "!ffmpeg -hide_banner -i \"$inputFile\" -vn -c:a copy \"$outputPath\"/\"$fileName\"-audio.\"$fileType\""
      ]
    },
    {
      "cell_type": "code",
      "execution_count": null,
      "metadata": {
        "cellView": "form",
        "id": "CEHi5EMm9lXG"
      },
      "outputs": [],
      "source": [
        "#@title Crop Video\n",
        "import os, sys, re\n",
        "\n",
        "video_file_path = \"\" #@param {type:\"string\"}\n",
        "out_width = \"1280\" #@param {type:\"string\"}\n",
        "out_height = \"200\" #@param {type:\"string\"}\n",
        "starting_position_x = \"0\" #@param {type:\"string\"}\n",
        "starting_position_y = \"300\" #@param {type:\"string\"}\n",
        "\n",
        "output_file_path = re.search(\"^[\\/].+\\/\", video_file_path)\n",
        "output_file_path_raw = output_file_path.group(0)\n",
        "delsplit = re.search(\"\\/(?:.(?!\\/))+$\", video_file_path)\n",
        "filename = re.sub(\"^[\\/]\", \"\", delsplit.group(0))\n",
        "filename_raw = re.sub(\".{4}$\", \"\", filename)\n",
        "file_extension = re.search(\".{3}$\", filename)\n",
        "file_extension_raw = file_extension.group(0)\n",
        "\n",
        "os.environ['inputFile'] = video_file_path\n",
        "os.environ['outputPath'] = output_file_path_raw\n",
        "os.environ['outWidth'] = out_width\n",
        "os.environ['outHeight'] = out_height\n",
        "os.environ['positionX'] = starting_position_x\n",
        "os.environ['positionY'] = starting_position_y\n",
        "os.environ['fileName'] = filename_raw\n",
        "os.environ['fileExtension'] = file_extension_raw\n",
        "\n",
        "!ffmpeg -hide_banner -i \"$inputFile\" -filter:v \"crop=$outWidth:$outHeight:$positionX:$positionY\" \"$outputPath\"/\"$fileName\"-CROP.\"$fileExtension\""
      ]
    },
    {
      "cell_type": "code",
      "execution_count": null,
      "metadata": {
        "cellView": "form",
        "id": "ee5omyu53kv0"
      },
      "outputs": [],
      "source": [
        "#@title Extract Individual Frames from Video (*Lossless*)\n",
        "import os, sys, re\n",
        "\n",
        "video_file_path = \"\" #@param {type:\"string\"}\n",
        "start_time = \"00:00:00.000\" #@param {type:\"string\"}\n",
        "end_time = \"00:01:00.000\" #@param {type:\"string\"}\n",
        "frame_rate = \"23.976\" #@param {type:\"string\"}\n",
        "\n",
        "#@markdown This will create a folder in the same directory titled \"`Extracted Frames`\"\n",
        "#@markdown * [*Example*](https://yuju.pw/y/36pP.png) *of output folder*\n",
        "\n",
        "\n",
        "output_file_path = re.search(\"^[\\/].+\\/\", video_file_path)\n",
        "output_file_path_raw = output_file_path.group(0)\n",
        "delsplit = re.search(\"\\/(?:.(?!\\/))+$\", video_file_path)\n",
        "filename = re.sub(\"^[\\/]\", \"\", delsplit.group(0))\n",
        "filename_raw = re.sub(\".{4}$\", \"\", filename)\n",
        "file_extension = re.search(\".{3}$\", filename)\n",
        "file_extension_raw = file_extension.group(0)\n",
        "\n",
        "os.environ['inputFile'] = video_file_path\n",
        "os.environ['outputPath'] = output_file_path_raw\n",
        "os.environ['startTime'] = start_time\n",
        "os.environ['endTime'] = end_time\n",
        "os.environ['frameRate'] = frame_rate\n",
        "os.environ['fileName'] = filename_raw\n",
        "os.environ['fileExtension'] = file_extension_raw\n",
        "\n",
        "!mkdir \"$outputPath\"/\"Extracted Frames\"\n",
        "!ffmpeg -hide_banner -i \"$inputFile\" -ss \"$startTime\" -to \"$endTime\" -r \"$frameRate\"/1 \"$outputPath\"/\"Extracted Frames\"/frame%04d.png\n"
      ]
    },
    {
      "cell_type": "code",
      "execution_count": null,
      "metadata": {
        "cellView": "form",
        "id": "qRVrWJDPFvYY"
      },
      "outputs": [],
      "source": [
        "#@markdown <h3>← Verify Tracks for Video</h3>\n",
        "import os, sys, re\n",
        "video_file_path = \"\" #@param {type:\"string\"}\n",
        "\n",
        "!mkvmerge -i \"$video_file_path\""
      ]
    },
    {
      "cell_type": "code",
      "execution_count": null,
      "metadata": {
        "cellView": "form",
        "id": "IVoQDyfT06bN"
      },
      "outputs": [],
      "source": [
        "#@title Extract Subtitle from Video\n",
        "import os, sys, re\n",
        "\n",
        "video_file_path = \"\" #@param {type:\"string\"}\n",
        "output_file_type = 'idx/sub' #@param [\"srt\", \"ass\", \"idx/sub\"]\n",
        "\n",
        "output_file_path = re.search(\"^[\\/].+\\/\", video_file_path)\n",
        "output_file_path_raw = output_file_path.group(0)\n",
        "delsplit = re.search(\"\\/(?:.(?!\\/))+$\", video_file_path)\n",
        "filename = re.sub(\"^[\\/]\", \"\", delsplit.group(0))\n",
        "filename_raw = re.sub(\".{4}$\", \"\", filename)\n",
        "file_extension = re.search(\".{3}$\", filename)\n",
        "file_extension_raw = file_extension.group(0)\n",
        "\n",
        "os.environ['inputFile'] = video_file_path\n",
        "os.environ['outputPath'] = output_file_path_raw\n",
        "os.environ['outputExtension'] = output_file_type\n",
        "os.environ['fileName'] = filename_raw\n",
        "os.environ['fileExtension'] = file_extension_raw\n",
        "\n",
        "if output_file_type == 'srt':\n",
        "    !ffmpeg -hide_banner -i \"$inputFile\" \"$outputPath\"/\"$fileName\".\"$outputExtension\"\n",
        "\n",
        "if output_file_type == 'ass':\n",
        "    !ffmpeg -hide_banner -i \"$inputFile\" \"$outputPath\"/\"$fileName\".\"$outputExtension\"\n",
        "\n",
        "if output_file_type == 'idx/sub':\n",
        "    !mkvextract \"$inputFile\" tracks 2:\"$outputPath\"/\"$fileName\".idx"
      ]
    },
    {
      "cell_type": "code",
      "execution_count": null,
      "metadata": {
        "cellView": "form",
        "id": "aURlOf9BC1P3"
      },
      "outputs": [],
      "source": [
        "#@title Convert Audio Filetype (*mp3, m4a, ogg, flac, etc.*)\n",
        "import os, sys, re\n",
        "\n",
        "audio_file_path = \"\" #@param {type:\"string\"}\n",
        "output_file_type = \"mp3\" #@param [\"mp3\", \"ogg\", \"m4a\", \"opus\", \"flac\", \"alac\", \"wav\"]\n",
        "\n",
        "output_file_path = re.search(\"^[\\/].+\\/\", audio_file_path)\n",
        "output_file_path_raw = output_file_path.group(0)\n",
        "delsplit = re.search(\"\\/(?:.(?!\\/))+$\", audio_file_path)\n",
        "filename = re.sub(\"^[\\/]\", \"\", delsplit.group(0))\n",
        "filename_raw = re.sub(\".{4}$\", \"\", filename)\n",
        "file_extension = re.search(\".{3}$\", filename)\n",
        "file_extension_raw = file_extension.group(0)\n",
        "\n",
        "os.environ['inputFile'] = audio_file_path\n",
        "os.environ['outputPath'] = output_file_path_raw\n",
        "os.environ['fileExtension'] = output_file_type\n",
        "os.environ['fileName'] = filename_raw\n",
        "\n",
        "!ffmpeg -hide_banner -i \"$inputFile\" \"$outputPath\"/\"$fileName\"converted.\"$fileExtension\""
      ]
    },
    {
      "cell_type": "markdown",
      "metadata": {
        "id": "Ja95mvvq8oei"
      },
      "source": [
        "### Extract HardSub (*Code still pending - Require python 3.7*)"
      ]
    },
    {
      "cell_type": "code",
      "execution_count": null,
      "metadata": {
        "cellView": "form",
        "id": "nsT83IDywPFe"
      },
      "outputs": [],
      "source": [
        "#@title\n",
        "#@markdown <h3>⬅️ Click Here to START server</h3>\n",
        "\n",
        "!sudo apt-get update\n",
        "!sudo apt install tesseract-ocr\n",
        "!sudo apt install libtesseract-dev\n",
        "!sudo apt-get install tesseract-ocr-eng-mya\n",
        "!sudo pip install pytesseract\n",
        "!pip3 install opencv-python\n",
        "!sudo apt-get install libopencv-dev\n",
        "!pip install videocr\n",
        "\n",
        "from IPython.display import HTML, clear_output\n",
        "\n",
        "clear_output()\n",
        "\n",
        "print(\"Server Started Successfully\")"
      ]
    },
    {
      "cell_type": "code",
      "execution_count": null,
      "metadata": {
        "id": "EzF2X0m7FIku"
      },
      "outputs": [],
      "source": [
        "!pip install progressbar2 baidu-aip opencv-python-headless numpy"
      ]
    },
    {
      "cell_type": "code",
      "execution_count": null,
      "metadata": {
        "id": "3kabgg9wFmjv"
      },
      "outputs": [],
      "source": [
        "!git clone https://github.com/fanyange/ocr_video_hardcoded_subtitles.git"
      ]
    },
    {
      "cell_type": "code",
      "execution_count": null,
      "metadata": {
        "id": "D313rmPQFrQ3"
      },
      "outputs": [],
      "source": [
        "%cd /content/ocr_video_hardcoded_subtitles"
      ]
    },
    {
      "cell_type": "code",
      "execution_count": null,
      "metadata": {
        "id": "40JsjJCBxWcn"
      },
      "outputs": [],
      "source": [
        "from videocr import get_subtitles\n",
        "\n",
        "if __name__ == '__main__':  # This check is mandatory for Windows.\n",
        "    print(get_subtitles('video.mp4', lang='chi_sim+eng', sim_threshold=70, conf_threshold=65))"
      ]
    },
    {
      "cell_type": "code",
      "execution_count": null,
      "metadata": {
        "id": "KXWYsnPOxJVd"
      },
      "outputs": [],
      "source": [
        "get_subtitles(\n",
        "    video_path: str, lang='eng', time_start='0:00', time_end='',\n",
        "    conf_threshold=65, sim_threshold=90, use_fullframe=False)"
      ]
    },
    {
      "cell_type": "code",
      "execution_count": null,
      "metadata": {
        "id": "Dnkbv5UyGzMJ"
      },
      "outputs": [],
      "source": [
        "%cd /content"
      ]
    },
    {
      "cell_type": "code",
      "execution_count": null,
      "metadata": {
        "id": "knnSIyZzG2gs"
      },
      "outputs": [],
      "source": [
        "!git clone https://github.com/aritra1999/Video-OCR"
      ]
    },
    {
      "cell_type": "code",
      "execution_count": null,
      "metadata": {
        "id": "dJYInqIZHAPJ"
      },
      "outputs": [],
      "source": [
        "%cd /content/Video-OCR"
      ]
    },
    {
      "cell_type": "code",
      "execution_count": null,
      "metadata": {
        "id": "anaBbX-VHEwk"
      },
      "outputs": [],
      "source": [
        "!pip install -r reuirements.txt\n",
        "!python final.py"
      ]
    },
    {
      "cell_type": "code",
      "execution_count": null,
      "metadata": {
        "id": "BKvHp7QUKMGL"
      },
      "outputs": [],
      "source": [
        "!git clone https://github.com/rflynn/mangold.git"
      ]
    },
    {
      "cell_type": "code",
      "execution_count": null,
      "metadata": {
        "id": "Sc5dglFDKU80"
      },
      "outputs": [],
      "source": [
        "%cd /content/mangold"
      ]
    },
    {
      "cell_type": "code",
      "execution_count": null,
      "metadata": {
        "id": "BUm3Yn42KbHD"
      },
      "outputs": [],
      "source": [
        "!python ocr1.py pitrain.png"
      ]
    },
    {
      "cell_type": "markdown",
      "metadata": {
        "id": "CD36vcpf2FSb"
      },
      "source": [
        "## <font size=6>FFMPEG 2</font>\n",
        "<font size=4 color=red>GPU runtime needed!</font>"
      ]
    },
    {
      "cell_type": "markdown",
      "metadata": {
        "id": "RDHuIkoi6l9a"
      },
      "source": [
        "### <font face=\"Rubik\" size=\"4\">» </font><font face=\"Rubik\" size=\"5\">Display Media File Metadata"
      ]
    },
    {
      "cell_type": "code",
      "execution_count": null,
      "metadata": {
        "cellView": "form",
        "id": "Sv8au_RO6WUs"
      },
      "outputs": [],
      "source": [
        "import os, sys, re\n",
        "\n",
        "media_file_path = \"\" #@param {type:\"string\"}\n",
        "\n",
        "os.environ['inputFile'] = media_file_path\n",
        "\n",
        "!ffmpeg -i \"$inputFile\" -hide_banner"
      ]
    },
    {
      "cell_type": "markdown",
      "metadata": {
        "id": "X4yIG_nqYAoH"
      },
      "source": [
        "> *You can ignore the* \"`At least one output file must be specified`\" *error after running this.*\n",
        "\n",
        "\n"
      ]
    },
    {
      "cell_type": "markdown",
      "metadata": {
        "id": "66I2t2sQ2SMq"
      },
      "source": [
        "### <font face=\"Rubik\" size=\"4\">» </font><font face=\"Rubik\" size=\"5\">Convert *Video File* ➔ *.mp4* (*Lossless*)"
      ]
    },
    {
      "cell_type": "code",
      "execution_count": null,
      "metadata": {
        "cellView": "form",
        "id": "o6fcC2wN2SM8"
      },
      "outputs": [],
      "source": [
        "import os, sys, re\n",
        "\n",
        "video_file_path = \"\" #@param {type:\"string\"}\n",
        "\n",
        "output_file_path = re.search(\"^[\\/].+\\/\", video_file_path)\n",
        "output_file_path_raw = output_file_path.group(0)\n",
        "delsplit = re.search(\"\\/(?:.(?!\\/))+$\", video_file_path)\n",
        "filename = re.sub(\"^[\\/]\", \"\", delsplit.group(0))\n",
        "filename_raw = re.sub(\".{4}$\", \"\", filename)\n",
        "file_extension = re.search(\".{3}$\", filename)\n",
        "file_extension_raw = file_extension.group(0)\n",
        "\n",
        "os.environ['inputFile'] = video_file_path\n",
        "os.environ['outputPath'] = output_file_path_raw\n",
        "os.environ['startTime'] = start_time\n",
        "os.environ['endTime'] = end_time\n",
        "os.environ['fileName'] = filename_raw\n",
        "os.environ['fileExtension'] = file_extension_raw\n",
        "\n",
        "!ffmpeg -hide_banner -i \"$inputFile\" -c copy -strict -2 \"$outputPath\"/\"$fileName\".mp4"
      ]
    },
    {
      "cell_type": "markdown",
      "metadata": {
        "id": "NObEcBWAJoaz"
      },
      "source": [
        "### <font face=\"Rubik\" size=\"4\">» </font><font face=\"Rubik\" size=\"5\">Convert *Video File* ➔ *.mkv* (*Lossless*)"
      ]
    },
    {
      "cell_type": "code",
      "execution_count": null,
      "metadata": {
        "cellView": "form",
        "id": "zsx4JFLRJoa0"
      },
      "outputs": [],
      "source": [
        "import os, sys, re\n",
        "\n",
        "video_file_path = \"\" #@param {type:\"string\"}\n",
        "\n",
        "output_file_path = re.search(\"^[\\/].+\\/\", video_file_path)\n",
        "output_file_path_raw = output_file_path.group(0)\n",
        "delsplit = re.search(\"\\/(?:.(?!\\/))+$\", video_file_path)\n",
        "filename = re.sub(\"^[\\/]\", \"\", delsplit.group(0))\n",
        "filename_raw = re.sub(\".{4}$\", \"\", filename)\n",
        "file_extension = re.search(\".{3}$\", filename)\n",
        "file_extension_raw = file_extension.group(0)\n",
        "\n",
        "os.environ['inputFile'] = video_file_path\n",
        "os.environ['outputPath'] = output_file_path_raw\n",
        "os.environ['startTime'] = start_time\n",
        "os.environ['endTime'] = end_time\n",
        "os.environ['fileName'] = filename_raw\n",
        "os.environ['fileExtension'] = file_extension_raw\n",
        "\n",
        "!ffmpeg -hide_banner -i \"$inputFile\" -c copy -strict -2 \"$outputPath\"/\"$fileName\".mkv"
      ]
    },
    {
      "cell_type": "markdown",
      "metadata": {
        "id": "FpJXJiRl6-gK"
      },
      "source": [
        "### <font face=\"Rubik\" size=\"4\">» </font><font face=\"Rubik\" size=\"5\">Trim Video File (*Lossless*)"
      ]
    },
    {
      "cell_type": "code",
      "execution_count": null,
      "metadata": {
        "cellView": "form",
        "id": "8rjW6Fcb2SN0"
      },
      "outputs": [],
      "source": [
        "import os, sys, re\n",
        "\n",
        "video_file_path = \"\" #@param {type:\"string\"}\n",
        "start_time = \"00:00:00.000\" #@param {type:\"string\"}\n",
        "end_time = \"00:01:00.000\" #@param {type:\"string\"}\n",
        "\n",
        "output_file_path = re.search(\"^[\\/].+\\/\", video_file_path)\n",
        "output_file_path_raw = output_file_path.group(0)\n",
        "delsplit = re.search(\"\\/(?:.(?!\\/))+$\", video_file_path)\n",
        "filename = re.sub(\"^[\\/]\", \"\", delsplit.group(0))\n",
        "filename_raw = re.sub(\".{4}$\", \"\", filename)\n",
        "file_extension = re.search(\".{3}$\", filename)\n",
        "file_extension_raw = file_extension.group(0)\n",
        "\n",
        "os.environ['inputFile'] = video_file_path\n",
        "os.environ['outputPath'] = output_file_path_raw\n",
        "os.environ['startTime'] = start_time\n",
        "os.environ['endTime'] = end_time\n",
        "os.environ['fileName'] = filename_raw\n",
        "os.environ['fileExtension'] = file_extension_raw\n",
        "\n",
        "!ffmpeg -hide_banner -i \"$inputFile\" -ss \"$startTime\" -to \"$endTime\" -c copy \"$outputPath\"/\"$fileName\"-TRIM.\"$fileExtension\""
      ]
    },
    {
      "cell_type": "markdown",
      "metadata": {
        "id": "SNDGdMRn3PA-"
      },
      "source": [
        "### <font face=\"Rubik\" size=\"4\">» </font><font face=\"Rubik\" size=\"5\">Crop Video"
      ]
    },
    {
      "cell_type": "markdown",
      "metadata": {
        "id": "KFcIThDuBii_"
      },
      "source": [
        "<h3> Crop Variables Explanation:\n",
        "\n",
        "* `out_width` = The width of your cropped video file.\n",
        "* `out_height` = The height of your cropped video file.\n",
        "* `starting_position_x` & `starting_position_y` = These values define the x & y coordinates of the top left corner of your original video to start cropping from.\n",
        "\n",
        "###### *Example: For cropping the black bars from a video that looked like* [this](https://yuju.pw/y/312r.png):\n",
        "* *For your starting coordinates* (`x` , `y`) *you would use* (`0` , `138`).\n",
        "* *For* `out_width` *you would use* `1920`. *And for* `out_height` *you would use `804`.*\n",
        "\n",
        "\n",
        "\n"
      ]
    },
    {
      "cell_type": "code",
      "execution_count": null,
      "metadata": {
        "cellView": "form",
        "id": "wuMEJdjV2SOT"
      },
      "outputs": [],
      "source": [
        "import os, sys, re\n",
        "\n",
        "video_file_path = \"\" #@param {type:\"string\"}\n",
        "out_width = \"1920\" #@param {type:\"string\"}\n",
        "out_height = \"804\" #@param {type:\"string\"}\n",
        "starting_position_x = \"0\" #@param {type:\"string\"}\n",
        "starting_position_y = \"138\" #@param {type:\"string\"}\n",
        "\n",
        "output_file_path = re.search(\"^[\\/].+\\/\", video_file_path)\n",
        "output_file_path_raw = output_file_path.group(0)\n",
        "delsplit = re.search(\"\\/(?:.(?!\\/))+$\", video_file_path)\n",
        "filename = re.sub(\"^[\\/]\", \"\", delsplit.group(0))\n",
        "filename_raw = re.sub(\".{4}$\", \"\", filename)\n",
        "file_extension = re.search(\".{3}$\", filename)\n",
        "file_extension_raw = file_extension.group(0)\n",
        "\n",
        "os.environ['inputFile'] = video_file_path\n",
        "os.environ['outputPath'] = output_file_path_raw\n",
        "os.environ['outWidth'] = out_width\n",
        "os.environ['outHeight'] = out_height\n",
        "os.environ['positionX'] = starting_position_x\n",
        "os.environ['positionY'] = starting_position_y\n",
        "os.environ['fileName'] = filename_raw\n",
        "os.environ['fileExtension'] = file_extension_raw\n",
        "\n",
        "!ffmpeg -hide_banner -i \"$inputFile\" -filter:v \"crop=$outWidth:$outHeight:$positionX:$positionY\" \"$outputPath\"/\"$fileName\"-CROP.\"$fileExtension\""
      ]
    },
    {
      "cell_type": "markdown",
      "metadata": {
        "id": "2f-THZmDoOaY"
      },
      "source": [
        "### <font face=\"Rubik\" size=\"4\">» </font><font face=\"Rubik\" size=\"5\">Extract Audio from Video File (*Lossless*)"
      ]
    },
    {
      "cell_type": "code",
      "execution_count": null,
      "metadata": {
        "cellView": "form",
        "id": "JNckCucf2SOs"
      },
      "outputs": [],
      "source": [
        "import os, sys, re\n",
        "\n",
        "video_file_path = \"\" #@param {type:\"string\"}\n",
        "output_file_extension = 'm4a' #@param [\"m4a\", \"mp3\", \"opus\", \"flac\", \"wav\"]\n",
        "\n",
        "delsplit = re.search(\"\\/(?:.(?!\\/))+$\", video_file_path)\n",
        "output_file_path = re.search(\"^[\\/].+\\/\", video_file_path)\n",
        "filename = re.sub(\"^[\\/]\", \"\", delsplit.group(0))\n",
        "filename_raw = re.sub(\".{4}$\", \"\", filename)\n",
        "\n",
        "os.environ['inputFile'] = video_file_path\n",
        "os.environ['outputPath'] = output_file_path.group(0)\n",
        "os.environ['fileName'] = filename_raw\n",
        "os.environ['fileType'] = output_file_extension\n",
        "\n",
        "!ffmpeg -hide_banner -i \"$inputFile\" -vn -c:a copy \"$outputPath\"/\"$fileName\"-audio.\"$fileType\""
      ]
    },
    {
      "cell_type": "markdown",
      "metadata": {
        "id": "MSUasbRUDP3B"
      },
      "source": [
        "### <font face=\"Rubik\" size=\"4\">» </font><font face=\"Rubik\" size=\"5\">Re-encode a Video to a Different Resolution"
      ]
    },
    {
      "cell_type": "code",
      "execution_count": null,
      "metadata": {
        "cellView": "form",
        "id": "nd2LvSRZCxRe"
      },
      "outputs": [],
      "source": [
        "import os, sys, re\n",
        "\n",
        "video_file_path = '' #@param {type:\"string\"}\n",
        "resolution = '1080p' #@param [\"2160p\", \"1440p\", \"1080p\", \"720p\", \"480p\", \"360p\", \"240p\"]\n",
        "file_type = 'mp4' #@param [\"mkv\", \"mp4\"]\n",
        "\n",
        "delsplit = re.search(\"\\/(?:.(?!\\/))+$\", video_file_path)\n",
        "testsplit = video_file_path.split(\"/\")\n",
        "filename = re.sub(\"^[\\/]\", \"\", delsplit.group(0))\n",
        "filename_raw = re.sub(\".{4}$\", \"\", filename)\n",
        "resolution_raw = re.search(\"[^p]{3,4}\", resolution)\n",
        "output_file_path = re.search(\"^[\\/].+\\/\", video_file_path)\n",
        "\n",
        "os.environ['inputFile'] = video_file_path\n",
        "os.environ['outputPath'] = output_file_path.group(0)\n",
        "os.environ['fileName'] = filename_raw\n",
        "os.environ['fileType'] = file_type\n",
        "os.environ['resolutionHeight'] = resolution_raw.group(0)\n",
        "\n",
        "!ffmpeg -hide_banner -i \"$inputFile\" -vf \"scale=-1:\"$resolutionHeight\"\" -c:a copy -strict experimental \"$outputPath\"/\"$fileName\"-\"$resolutionHeight\"p.\"$fileType\""
      ]
    },
    {
      "cell_type": "markdown",
      "metadata": {
        "id": "9UagRtLPyKoQ"
      },
      "source": [
        "### <font face=\"Rubik\" size=\"4\">» </font><font face=\"Rubik\" size=\"5\">Extract Individual Frames from Video"
      ]
    },
    {
      "cell_type": "code",
      "execution_count": null,
      "metadata": {
        "cellView": "form",
        "id": "jTnByMhAyKoF"
      },
      "outputs": [],
      "source": [
        "#@markdown This will create a folder in the same directory titled \"`Extracted Frames`\"\n",
        "* [*Example*](https://yuju.pw/y/36pP.png) *of output folder*\n",
        "import os, sys, re\n",
        "\n",
        "video_file_path = \"\" #@param {type:\"string\"}\n",
        "start_time = \"00:00:00.000\" #@param {type:\"string\"}\n",
        "end_time = \"00:01:00.000\" #@param {type:\"string\"}\n",
        "frame_rate = \"23.976\" #@param {type:\"string\"}\n",
        "\n",
        "output_file_path = re.search(\"^[\\/].+\\/\", video_file_path)\n",
        "output_file_path_raw = output_file_path.group(0)\n",
        "delsplit = re.search(\"\\/(?:.(?!\\/))+$\", video_file_path)\n",
        "filename = re.sub(\"^[\\/]\", \"\", delsplit.group(0))\n",
        "filename_raw = re.sub(\".{4}$\", \"\", filename)\n",
        "file_extension = re.search(\".{3}$\", filename)\n",
        "file_extension_raw = file_extension.group(0)\n",
        "\n",
        "os.environ['inputFile'] = video_file_path\n",
        "os.environ['outputPath'] = output_file_path_raw\n",
        "os.environ['startTime'] = start_time\n",
        "os.environ['endTime'] = end_time\n",
        "os.environ['frameRate'] = frame_rate\n",
        "os.environ['fileName'] = filename_raw\n",
        "os.environ['fileExtension'] = file_extension_raw\n",
        "\n",
        "!mkdir \"$outputPath\"/\"Extracted Frames\"\n",
        "!ffmpeg -hide_banner -i \"$inputFile\" -ss \"$startTime\" -to \"$endTime\" -r \"$frameRate\"/1 \"$outputPath\"/\"Extracted Frames\"/frame%04d.png"
      ]
    },
    {
      "cell_type": "markdown",
      "metadata": {
        "id": "9ZcgdPBT2SQK"
      },
      "source": [
        "### <font face=\"Rubik\" size=\"4\">» </font><font face=\"Rubik\" size=\"5\">Generate Thumbnails - Preview from Video (3x2)"
      ]
    },
    {
      "cell_type": "code",
      "execution_count": null,
      "metadata": {
        "cellView": "form",
        "id": "J2u-Rha8miNy"
      },
      "outputs": [],
      "source": [
        "#@markdown Example of output image: https://yuju.pw/y/39i2.png <br>\n",
        "import os, sys, re\n",
        "\n",
        "video_file_path = \"\" #@param {type:\"string\"}\n",
        "output_file_type = 'png' #@param [\"png\", \"jpg\"]\n",
        "\n",
        "output_file_path = re.search(\"^[\\/].+\\/\", video_file_path)\n",
        "output_file_path_raw = output_file_path.group(0)\n",
        "delsplit = re.search(\"\\/(?:.(?!\\/))+$\", video_file_path)\n",
        "filename = re.sub(\"^[\\/]\", \"\", delsplit.group(0))\n",
        "filename_raw = re.sub(\".{4}$\", \"\", filename)\n",
        "file_extension = re.search(\".{3}$\", filename)\n",
        "file_extension_raw = file_extension.group(0)\n",
        "\n",
        "os.environ['inputFile'] = video_file_path\n",
        "os.environ['outputPath'] = output_file_path_raw\n",
        "os.environ['outputExtension'] = output_file_type\n",
        "os.environ['fileName'] = filename_raw\n",
        "os.environ['fileExtension'] = file_extension_raw\n",
        "\n",
        "!ffmpeg -hide_banner -i \"$inputFile\" -vframes 1 -q:v 2 -vf \"select=not(mod(n\\,200)),scale=-1:480,tile=3x2\" -an \"$outputPath\"/\"$fileName\"_thumbnails.\"$outputExtension\""
      ]
    },
    {
      "cell_type": "markdown",
      "metadata": {
        "id": "7-3O4en4C4IL"
      },
      "source": [
        "### <font face=\"Rubik\" size=\"4\">» </font><font face=\"Rubik\" size=\"5\">Convert Audio Filetype (*mp3, m4a, ogg, flac, etc.*)"
      ]
    },
    {
      "cell_type": "code",
      "execution_count": null,
      "metadata": {
        "cellView": "form",
        "id": "2sKzNHSG2SQq"
      },
      "outputs": [],
      "source": [
        "import os, sys, re\n",
        "\n",
        "audio_file_path = \"\" #@param {type:\"string\"}\n",
        "output_file_type = \"mp3\" #@param [\"mp3\", \"ogg\", \"m4a\", \"opus\", \"flac\", \"alac\", \"wav\"]\n",
        "\n",
        "output_file_path = re.search(\"^[\\/].+\\/\", audio_file_path)\n",
        "output_file_path_raw = output_file_path.group(0)\n",
        "delsplit = re.search(\"\\/(?:.(?!\\/))+$\", audio_file_path)\n",
        "filename = re.sub(\"^[\\/]\", \"\", delsplit.group(0))\n",
        "filename_raw = re.sub(\".{4}$\", \"\", filename)\n",
        "file_extension = re.search(\".{3}$\", filename)\n",
        "file_extension_raw = file_extension.group(0)\n",
        "\n",
        "os.environ['inputFile'] = audio_file_path\n",
        "os.environ['outputPath'] = output_file_path_raw\n",
        "os.environ['fileExtension'] = output_file_type\n",
        "os.environ['fileName'] = filename_raw\n",
        "\n",
        "!ffmpeg -hide_banner -i \"$inputFile\" \"$outputPath\"/\"$fileName\"converted.\"$fileExtension\""
      ]
    },
    {
      "cell_type": "markdown",
      "metadata": {
        "id": "VRk2Ye1exWVA"
      },
      "source": [
        "### <font face=\"Rubik\" size=\"4\">» </font><font face=\"Rubik\" size=\"5\">Extract + Upload Frames from Video</font>"
      ]
    },
    {
      "cell_type": "code",
      "execution_count": null,
      "metadata": {
        "cellView": "form",
        "id": "BIGsgarfxWVI"
      },
      "outputs": [],
      "source": [
        "import os, re, time, pathlib\n",
        "import urllib.request\n",
        "from IPython.display import clear_output\n",
        "\n",
        "Auto_UP_Gdrive = False\n",
        "AUTO_MOVE_PATH = \"/content\"\n",
        "HOME = os.path.expanduser(\"~\")\n",
        "pathDoneCMD = f'{HOME}/doneCMD.sh'\n",
        "\n",
        "if not os.path.exists(f\"{HOME}/.ipython/ttmg.py\"):\n",
        "    hCode = \"https://raw.githubusercontent.com/biplobsd/\" \\\n",
        "                \"Google-Colab-CloudTorrent/master/res/ttmg.py\"\n",
        "    urllib.request.urlretrieve(hCode, f\"{HOME}/.ipython/ttmg.py\")\n",
        "\n",
        "from ttmg import (\n",
        "    runSh,\n",
        "    findProcess,\n",
        "    loadingAn,\n",
        "    updateCheck,\n",
        "    ngrok\n",
        ")\n",
        "\n",
        "video_file_path = \"\" #@param {type:\"string\"}\n",
        "\n",
        "output_file_path = re.search(\"^[\\/].+\\/\", video_file_path)\n",
        "output_file_path_raw = output_file_path.group(0)\n",
        "delsplit = re.search(\"\\/(?:.(?!\\/))+$\", video_file_path)\n",
        "filename = re.sub(\"^[\\/]\", \"\", delsplit.group(0))\n",
        "filename_raw = re.sub(\".{4}$\", \"\", filename)\n",
        "file_extension = re.search(\".{3}$\", filename)\n",
        "file_extension_raw = file_extension.group(0)\n",
        "\n",
        "os.environ['inputFile'] = video_file_path\n",
        "os.environ['outputPath'] = output_file_path_raw\n",
        "os.environ['fileName'] = filename_raw\n",
        "os.environ['fileExtension'] = file_extension_raw\n",
        "\n",
        "!mkdir -p \"/content/frames\"\n",
        "\n",
        "for i in range(10):\n",
        "    clear_output()\n",
        "    loadingAn()\n",
        "    print(\"Uploading Frames...\")\n",
        "\n",
        "%cd \"/content/frames\"\n",
        "!ffmpeg -hide_banner -ss 00:56.0 -i \"$inputFile\" -vframes 1 -q:v 1 -y \"/content/frames/frame1.png\"\n",
        "!curl --silent -F \"reqtype=fileupload\" -F \"fileToUpload=@frame1.png\" https://catbox.moe/user/api.php -o frame1.txt\n",
        "f1 = open('frame1.txt', 'r')\n",
        "%cd \"/content\"\n",
        "file_content1 = f1.read()\n",
        "\n",
        "%cd \"/content/frames\"\n",
        "!ffmpeg -hide_banner -ss 02:20.0 -i \"$inputFile\" -vframes 1 -q:v 1 -y \"/content/frames/frame2.png\"\n",
        "!curl --silent -F \"reqtype=fileupload\" -F \"fileToUpload=@frame2.png\" https://catbox.moe/user/api.php -o frame2.txt\n",
        "%cd \"/content/frames\"\n",
        "f2 = open('frame2.txt', 'r')\n",
        "%cd \"/content\"\n",
        "file_content2 = f2.read()\n",
        "\n",
        "clear_output()\n",
        "print (\"Screenshot URLs:\")\n",
        "print (\"1. \" + file_content1)\n",
        "print (\"2. \" + file_content2)"
      ]
    },
    {
      "cell_type": "markdown",
      "metadata": {
        "id": "tozwpAhhnm69"
      },
      "source": [
        "### <font size=6>MediaInfo</font>"
      ]
    },
    {
      "cell_type": "code",
      "execution_count": null,
      "metadata": {
        "cellView": "form",
        "id": "NTULRguzu0b0"
      },
      "outputs": [],
      "source": [
        "# ============================= FORM ============================= #\n",
        "# @markdown <font size=5>← [Start] MediaInfo</font>\n",
        "path_to_file = \"\" # @param {type:\"string\"}\n",
        "save_output_to_file = False # @param {type:\"boolean\"}\n",
        "# ================================================================ #\n",
        "\n",
        "import os, uuid, re, IPython\n",
        "import ipywidgets as widgets\n",
        "import time\n",
        "from glob import glob\n",
        "from IPython.display import HTML, clear_output\n",
        "\n",
        "def mediainfo():\n",
        "  get_ipython().system_raw(\"\"\"mediainfo --LogFile=\"/root/.nfo\" \"$path_to_file\" \"\"\")\n",
        "  with open('/root/.nfo', 'r') as file:\n",
        "    media = file.read()\n",
        "    media = media.replace(os.path.dirname(path_to_file)+\"/\", \"\")\n",
        "  print(media)\n",
        "  get_ipython().system_raw(\"rm -f '/root/.nfo'\")\n",
        "\n",
        "  if save_output_to_file:\n",
        "    txt = path.rpartition('.')[0] + \".txt\"\n",
        "    if os.path.exists(txt):\n",
        "      get_ipython().system_raw(\"rm -f '$txt'\")\n",
        "    with open(txt, 'a+') as file:\n",
        "      file.write(media)\n",
        "\n",
        "if not os.path.exists(\"/usr/bin/mediainfo\"):\n",
        "  get_ipython().system_raw(\"apt-get install mediainfo\")\n",
        "\n",
        "mediainfo()"
      ]
    },
    {
      "cell_type": "markdown",
      "metadata": {
        "id": "Ts6zYXUdEfrz"
      },
      "source": [
        "## <font size=6>Google Drive Downloader</font>"
      ]
    },
    {
      "cell_type": "code",
      "execution_count": null,
      "metadata": {
        "cellView": "form",
        "id": "B10h_KlyE_S5"
      },
      "outputs": [],
      "source": [
        "# ============================= FORM ============================= #\n",
        "# @markdown <h3>← Install the Module</h3>\n",
        "# ================================================================ #\n",
        "\n",
        "import os\n",
        "from IPython.display import clear_output\n",
        "\n",
        "!pip install googleDriveFileDownloader\n",
        "\n",
        "path1 = '/content/downloads'\n",
        "path2 = '/content/downloads/Google Drive'\n",
        "\n",
        "if os.path.exists(path1) == False:\n",
        "  os.makedirs(path1)\n",
        "  if os.path.exists(path2) == False:\n",
        "    os.makedirs(path2)\n",
        "  elif os.path.exists(path2) == True:\n",
        "    None\n",
        "elif os.path.exists(path1) == True:\n",
        "  if os.path.exists(path2) == False:\n",
        "    os.makedirs(path2)\n",
        "  elif os.path.exists(path2) == True:\n",
        "    None\n",
        "\n",
        "clear_output()"
      ]
    },
    {
      "cell_type": "code",
      "execution_count": null,
      "metadata": {
        "cellView": "form",
        "id": "mHTDvjRKEs9n"
      },
      "outputs": [],
      "source": [
        "# ============================= FORM ============================= #\n",
        "# @markdown <h3>← [Start] Google Drive Downloader</h3></br>\n",
        "url = \"\" # @param {type:\"string\"}\n",
        "output = \"\" # @param {type:\"string\"}\n",
        "# @markdown > <p>If the \"output\" field is empty, the default download path will be used (/content/downloads/Google Drive).</p>\n",
        "# @markdown > This downloader is somewhat working.</br>The only problem (for now) is that the downloaded file is not stored with the same name and appears to not have extension as well.\n",
        "# ================================================================ #\n",
        "\n",
        "from IPython.display import clear_output\n",
        "from googleDriveFileDownloader import googleDriveFileDownloader\n",
        "\n",
        "if url == '':\n",
        "  print(\"The url field is empty!\")\n",
        "else:\n",
        "  if output == '':\n",
        "    output = '/content/downloads/Google Drive'\n",
        "    %cd \"$output\"\n",
        "    a = googleDriveFileDownloader()\n",
        "    a.downloadFile(url)\n",
        "  else:\n",
        "    %cd \"$output\"\n",
        "    a = googleDriveFileDownloader()\n",
        "    a.downloadFile(url)\n"
      ]
    },
    {
      "cell_type": "markdown",
      "metadata": {
        "id": "FWdEg4H9JlSp"
      },
      "source": [
        "## <font size=6>HandBrake</font>"
      ]
    },
    {
      "cell_type": "code",
      "execution_count": null,
      "metadata": {
        "cellView": "form",
        "id": "E2seNDqYO8wg"
      },
      "outputs": [],
      "source": [
        "# ============================= FORM ============================= #\n",
        "# @markdown <font size=5>← Install HandBrake</font>\n",
        "# ================================================================ #\n",
        "\n",
        "from IPython.display import clear_output\n",
        "from os import makedirs\n",
        "\n",
        "makedirs(\"/content/temp/HandbrakeTemp\", exist_ok = True)\n",
        "\n",
        "!wget -qq https://github.com/vot/ffbinaries-prebuilt/releases/download/v4.2.1/ffmpeg-4.2.1-linux-64.zip\n",
        "!rm -f ffmpeg-4.2.1-linux-64.zip\n",
        "!add-apt-repository ppa:stebbins/handbrake-releases -y\n",
        "!apt-get install -y handbrake-cli\n",
        "\n",
        "clear_output()"
      ]
    },
    {
      "cell_type": "code",
      "execution_count": null,
      "metadata": {
        "cellView": "form",
        "id": "CQdjykVdJw0a"
      },
      "outputs": [],
      "source": [
        "##################################################\n",
        "#\n",
        "# Code author: SKGHD\n",
        "# https://github.com/SKGHD/Handy\n",
        "#\n",
        "##################################################\n",
        "\n",
        "# ============================= FORM ============================= #\n",
        "# @markdown <font size=5>← [Start] HandBrake</font>\n",
        "MODE = \"SINGLE\" #@param [\"SINGLE\", \"BATCH\"]\n",
        "# @markdown > Select mode (batch conversion / single file)\n",
        "# @markdown ---\n",
        "SOURCE = \"\" # @param {type:\"string\"}\n",
        "DESTINATION = \"\" # @param {type:\"string\"}\n",
        "FORMAT = \"mkv\" # @param [\"mp4\", \"mkv\"]\n",
        "RESOLUTION = \"480p\" # @param [\"480p\", \"576p\", \"720p\", \"1080p\"]\n",
        "Encoder = \"x264\" # @param [\"x264\", \"x265\"]\n",
        "Encoder_Preset = \"ultrafast\" # @param [\"ultrafast\", \"faster\", \"fast\", \"medium\", \"slow\", \"slower\"]\n",
        "CQ = 30 #@param {type:\"slider\", min:10, max:30, step:1}\n",
        "# @markdown > Choose Constant Quality Rate (higher quality / smaller file size)\n",
        "Additional_Flags = \"\" # @param {type:\"string\"}\n",
        "# ================================================================ #\n",
        "\n",
        "import smtplib\n",
        "import os\n",
        "\n",
        "formats = ('.mkv','.mp4','.ts','.avi','.mov','.wmv')\n",
        "\n",
        "######## Renames the file ########\n",
        "def fileName(fPath):\n",
        "        tName = fPath.split('/')[-1]\n",
        "        if tName.endswith('ts'):\n",
        "          tName = '[HandBrake] ' + tName[:-3] + f' [{RESOLUTION}] [{Encoder}].{FORMAT}'\n",
        "        else:\n",
        "          tName = '[HandBrake] ' + tName[:-4] + f' [{RESOLUTION}] [{Encoder}].{FORMAT}'\n",
        "        return tName\n",
        "\n",
        "def set_resolution():\n",
        "  global w,h,flags\n",
        "  if RESOLUTION == \"480p\":\n",
        "    w, h = \"854\" , \"480\"\n",
        "  if RESOLUTION == \"480p\":\n",
        "    w, h = \"1024\" , \"576\"\n",
        "  elif RESOLUTION == \"720p\":\n",
        "    w, h = \"1280\" , \"720\"\n",
        "  elif RESOLUTION==\"1080p\":\n",
        "    w, h = \"1920\" , \"1080\"\n",
        "\n",
        "def addFlags():\n",
        "  global flags\n",
        "  flags = f\" --encoder {Encoder}  --all-audio -s '0,1,2,3' --cfr --optimize --quality={CQ} --width={w} --height={h} --format={FORMAT} --encoder-preset={Encoder_Preset} \"\n",
        "  if Additional_Flags != \"\":\n",
        "    flags += str(Additional_Flags)\n",
        "\n",
        "set_resolution()\n",
        "addFlags()\n",
        "\n",
        "##### HandBrake and Rclone #####\n",
        "def runner(path):\n",
        "  f_name = fileName(path)\n",
        "  hTemp=f\"/content/temp/HandbrakeTemp/{f_name}\"\n",
        "  !HandBrakeCLI -i \"$path\" -o \"$hTemp\" $flags\n",
        "\n",
        "\n",
        "  if os.path.isfile(hTemp):\n",
        "    print(f\"\\n\\n********** Successfully converted {f_name}\\n Now saving to Destination.....\")\n",
        "    if os.path.exists('/usr/bin/rclone'):\n",
        "      !rclone move \"$hTemp\" --user-agent \"Mozilla\" \"$DESTINATION\" --transfers 20 --checkers 20 --stats-one-line --stats=5s -v --tpslimit 95 --tpslimit-burst 40\n",
        "    else:\n",
        "      dest = DESTINATION+'/'+f_name\n",
        "      !mv \"$hTemp\" \"$dest\"\n",
        "  if os.path.isfile(DESTINATION+ '/' +f_name):\n",
        "      print(f\"\\n\\n********** Successfully saved {f_name} to Destination\")\n",
        "\n",
        "########## Check Mode ########\n",
        "if MODE==\"BATCH\":\n",
        "  os.makedirs(DESTINATION, exist_ok=True)\n",
        "  if SOURCE.endswith('/'):\n",
        "      pass\n",
        "  else: SOURCE +='/'\n",
        "  filesList = os.listdir(SOURCE+'.')\n",
        "  if os.path.isfile(SOURCE+'processed_db.txt'):\n",
        "    pass\n",
        "  else:\n",
        "    with open((SOURCE+'processed_db.txt'), 'w') as fb:\n",
        "      fb.write(\"Do not delete this file until all files have been processed!\\n\")\n",
        "      fb.close()\n",
        "  with open((SOURCE+'processed_db.txt'), \"r+\") as filehandle:\n",
        "    processedList = [x.rstrip() for x in filehandle.readlines()]\n",
        "\n",
        "    print('<<<<<<<<<<<<<<<<<< Starting Conversion in Batch mode. >>>>>>>>>>>>>>>>>>')\n",
        "\n",
        "    for currentFile in filesList:\n",
        "      if currentFile.endswith(formats):\n",
        "        if currentFile not in processedList:\n",
        "          currentPath = SOURCE + currentFile\n",
        "          print(f'\\n\\n**************** Current File to process: {currentFile}')\n",
        "          runner(currentPath)\n",
        "          filehandle.write(currentFile+'\\n')\n",
        "    filehandle.close()\n",
        "\n",
        "\n",
        "else:\n",
        "    if SOURCE.endswith(formats):\n",
        "        runner(SOURCE)\n",
        "    else: print(\"Are you sure you have selected the correct file?\")"
      ]
    },
    {
      "cell_type": "markdown",
      "metadata": {
        "id": "pUODCRACrvGC"
      },
      "source": [
        "## <font size=6>Penetration Testing</font>"
      ]
    },
    {
      "cell_type": "markdown",
      "metadata": {
        "id": "5Lo-h1Cnrxou"
      },
      "source": [
        "### <font size=6>hashcat</font>\n",
        "<font size=4 color=red>GPU runtime needed!</font>"
      ]
    },
    {
      "cell_type": "markdown",
      "metadata": {
        "id": "dWFBQvMVOJv0"
      },
      "source": [
        "This block is unlikely going to make any progress as the learning curve of hashcat is quite steep..."
      ]
    },
    {
      "cell_type": "code",
      "execution_count": null,
      "metadata": {
        "cellView": "form",
        "id": "LPxKv5DAr3KV"
      },
      "outputs": [],
      "source": [
        "# ============================= FORM ============================= #\n",
        "# @markdown <h3>← Install hashcat</h3>\n",
        "# ================================================================ #\n",
        "\n",
        "from IPython.display import HTML, clear_output\n",
        "\n",
        "!apt install cmake build-essential -y && apt install checkinstall git -y && git clone https://github.com/hashcat/hashcat.git && cd hashcat && git submodule update --init && make && make install\n",
        "\n",
        "clear_output()"
      ]
    },
    {
      "cell_type": "code",
      "execution_count": null,
      "metadata": {
        "cellView": "form",
        "id": "SeubAcoyxCsw"
      },
      "outputs": [],
      "source": [
        "# ============================= FORM ============================= #\n",
        "# @markdown <h3>← [Start] hashcat Bechmark</h3>\n",
        "# ================================================================ #\n",
        "\n",
        "!hashcat -b"
      ]
    },
    {
      "cell_type": "code",
      "execution_count": null,
      "metadata": {
        "cellView": "form",
        "id": "HwRqNJoYR4Us"
      },
      "outputs": [],
      "source": [
        "# ============================= FORM ============================= #\n",
        "# @markdown <h3>← [Start] hashcat</h3></br>\n",
        "hash = \"\"  # @param {type:\"string\"}\n",
        "output = \"\"  # @param {type:\"string\"}\n",
        "# @markdown > <p><font size=2px>The output field is currently there just as a placeholder.</font></p>\n",
        "# @markdown ---\n",
        "hash_type = 'WPA-EAPOL-PBKDF2' #@param [\"MD5\", \"SHA1\", \"WPA-EAPOL-PBKDF2\"]\n",
        "attack_mode = 'dictionary' #@param [\"dictionary\", \"combination\", \"mask\", \"hybrid_wordlist_+_mask\", \"hybrid_mask_+_wordlist\"]\n",
        "wordlist = \"\"  # @param {type:\"string\"}\n",
        "# @markdown > <p><font size=2px>Enter the path to your wordlist (only used when the dictionary attack is chosen).</font></p>\n",
        "# ================================================================ #\n",
        "\n",
        "import IPython\n",
        "from IPython.display import clear_output\n",
        "\n",
        "if hash == '':\n",
        "  print(\"The hash field is empty!\")\n",
        "\n",
        "if output == '':\n",
        "  output = '/content/hashcat_output.txt'\n",
        "\n",
        "placeholder = 'This cell is not complete yet and could be dropped/abandoned at any time.'\n",
        "\n",
        "if hash_type == 'MD5' or hash_type == 'SHA1':\n",
        "  print(placeholder)\n",
        "elif hash_type == 'WPA-EAPOL-PBKDF2':\n",
        "  hash_type = 2500\n",
        "  if attack_mode == 'dictionary':\n",
        "    attack_mode = 0\n",
        "    if wordlist == '':\n",
        "      print(\"The wordlist field is empty!\")\n",
        "    else:\n",
        "      !hashcat -m {hash_type} -a {attack_mode} {hash} {wordlist} -o {output} --force\n",
        "  elif attack_mode == 'combination' or attack_mode == 'mask' or attack_mode == 'hybrid_wordlist_+_mask' or attack_mode == 'hybrid_mask_+_wordlist':\n",
        "    print(placeholder)"
      ]
    },
    {
      "cell_type": "code",
      "execution_count": null,
      "metadata": {
        "id": "2EIvy2zb8re1"
      },
      "outputs": [],
      "source": [
        "!hashcat -m 2500 -a 0 /content/test.hccapx /content/downloads/rockyou.txt -d 1 -o /content/test.txt"
      ]
    },
    {
      "cell_type": "markdown",
      "metadata": {
        "id": "TxQiE-LXjnAb"
      },
      "source": [
        "## <font size=6>Prawler</font>"
      ]
    },
    {
      "cell_type": "code",
      "execution_count": null,
      "metadata": {
        "id": "rq0caJ3njq08"
      },
      "outputs": [],
      "source": [
        "!pip install Prawler"
      ]
    },
    {
      "cell_type": "code",
      "execution_count": null,
      "metadata": {
        "id": "Gl8Efvbzjs3T"
      },
      "outputs": [],
      "source": [
        "import Prawler\n",
        "\n",
        "proxy_list = Prawler.get_proxy_list(5, \"http\", \"elite\", \"US\")\n",
        "\n",
        "print(proxy_list)"
      ]
    },
    {
      "cell_type": "markdown",
      "metadata": {
        "id": "PZrpgJGe59yp"
      },
      "source": [
        "## <font size=6>code-server</font>"
      ]
    },
    {
      "cell_type": "code",
      "execution_count": null,
      "metadata": {
        "cellView": "form",
        "id": "yzLxqKex6BQ6"
      },
      "outputs": [],
      "source": [
        "# ============================= FORM ============================= #\n",
        "# @markdown <font size=5>← Install code-server</font>\n",
        "# ================================================================ #\n",
        "\n",
        "from IPython.display import clear_output\n",
        "\n",
        "!pip install colabcode\n",
        "\n",
        "# clear_output()"
      ]
    },
    {
      "cell_type": "code",
      "execution_count": null,
      "metadata": {
        "cellView": "form",
        "id": "-LB2nKez6XOz"
      },
      "outputs": [],
      "source": [
        "# ============================= FORM ============================= #\n",
        "# @markdown <font size=5>← [Start] code-server</font>\n",
        "# @markdown > Please note that while running this cell, you cannot run other cell until you stop this one first.\n",
        "# ================================================================ #\n",
        "\n",
        "from colabcode import ColabCode\n",
        "\n",
        "# Run VSCode with password\n",
        "# ColabCode(port=10000, password=\"12345\")\n",
        "\n",
        "# Run VSCode without password\n",
        "ColabCode()"
      ]
    },
    {
      "cell_type": "markdown",
      "metadata": {
        "id": "eWs-zl2gNvwW"
      },
      "source": [
        "## <font size=6>Create/Extract Archive</font>"
      ]
    },
    {
      "cell_type": "code",
      "execution_count": null,
      "metadata": {
        "cellView": "form",
        "id": "XO8dzdyyH5pT"
      },
      "outputs": [],
      "source": [
        "# ============================= FORM ============================= #\n",
        "# @markdown <font size=5>← Create Archive</font>\n",
        "MODE = \"ZIP\" #@param [\"ZIP\", \"TAR\", \"7Z\"]\n",
        "FILENAME = \"\"  # @param {type:\"string\"}\n",
        "PATH_TO_FILE = \"\"  # @param {type:\"string\"}\n",
        "ARCHIVE_PASSWORD = \"\" #@param {type:\"string\"}\n",
        "\n",
        "# option supports b k m g (bytes, kilobytes, megabytes, gigabytes)\n",
        "SPLIT = \"no\" #@param [\"1g\", \"2g\", \"3g\", \"4g\", \"5g\", \"no\"]\n",
        "\n",
        "compress = 4#@param  {type:\"slider\", min:0, max:9, step:0}\n",
        "#@markdown > Use the character `|` to separate paths. (Example `path/to /1 | path/to/2`)\n",
        "# ================================================================ #\n",
        "\n",
        "from pathlib import PurePosixPath\n",
        "\n",
        "pathList = PATH_TO_FILE.split('|')\n",
        "if MODE == \"ZIP\":\n",
        "    if not FILENAME:\n",
        "      FILENAME = \"/content/NEW_FILE.ZIP\"\n",
        "    if ARCHIVE_PASSWORD:\n",
        "      passADD = f'--password \"{ARCHIVE_PASSWORD}\"'\n",
        "    else:\n",
        "      passADD = ''\n",
        "    splitC = f\"-s {SPLIT}\" if not 'no' in SPLIT else \"\"\n",
        "    for part in pathList:\n",
        "      pathdic = PurePosixPath(part.strip())\n",
        "      parent = pathdic.parent\n",
        "      partName = pathdic.parts[-1]\n",
        "      cmd = f'cd \"{parent}\" && zip {passADD} -{compress} {splitC} -v -r -u \"{FILENAME}\" \"{partName}\"'\n",
        "      !$cmd\n",
        "elif MODE == \"TAR\":\n",
        "    if not FILENAME:\n",
        "      FILENAME = \"/content/NEW_FILE\"\n",
        "    cmd = f'GZIP=-{compress} tar -zcvf \"{FILENAME}.tar.gz\" {PATH_TO_FILE}'\n",
        "    !$cmd\n",
        "else:\n",
        "    if not FILENAME:\n",
        "        FILENAME = \"/content/NEW_FILE\"\n",
        "    for part in pathList:\n",
        "      pathdic = PurePosixPath(part.strip())\n",
        "      parent = pathdic.parent\n",
        "      partName = pathdic.parts[-1]\n",
        "      cmd = f'cd \"{parent}\" && 7z a -mx={compress} \"{FILENAME}.7z\" \"{partName}\"'\n",
        "      !$cmd\n"
      ]
    },
    {
      "cell_type": "code",
      "execution_count": null,
      "metadata": {
        "cellView": "form",
        "id": "k98WImeXH5pK"
      },
      "outputs": [],
      "source": [
        "# ============================= FORM ============================= #\n",
        "# @markdown <font size=5>← Extract Archive</font>\n",
        "MODE = \"7Z\"  # @param [\"UNZIP\", \"UNTAR\", \"UNRAR\", \"7Z\"]\n",
        "PATH_TO_FILE = \"\"  # @param {type:\"string\"}\n",
        "extractPath = \"\"  # @param {type:\"string\"}\n",
        "ARCHIVE_PASSWORD = \"\" #@param {type:\"string\"}\n",
        "# ================================================================ #\n",
        "\n",
        "import os, urllib.request\n",
        "HOME = os.path.expanduser(\"~\")\n",
        "\n",
        "if not os.path.exists(f\"{HOME}/.ipython/mixlab.py\"):\n",
        "    hCode = \"https://raw.githubusercontent.com/shirooo39/\" \\\n",
        "                \"MiXLab/master/resources/mixlab.py\"\n",
        "    urllib.request.urlretrieve(hCode, f\"{HOME}/.ipython/mixlab.py\")\n",
        "\n",
        "from mixlab import (\n",
        "    runSh,\n",
        "    checkAvailable,\n",
        ")\n",
        "\n",
        "def extractFiles():\n",
        "    global extractPath\n",
        "    if ARCHIVE_PASSWORD:\n",
        "      passADD = f'-P {ARCHIVE_PASSWORD}'\n",
        "    else:\n",
        "      passADD = ''\n",
        "    if not extractPath:\n",
        "      extractPath = \"/content/extract\"\n",
        "    os.makedirs(extractPath, exist_ok=True)\n",
        "    if MODE == \"UNZIP\":\n",
        "        runSh('unzip '+passADD+f' \"{PATH_TO_FILE}\" -d \"{extractPath}\"', output=True)\n",
        "    elif MODE == \"UNRAR\":\n",
        "        runSh(f'unrar x \"{PATH_TO_FILE}\" \"{extractPath}\" '+passADD+' -o+', output=True)\n",
        "    elif MODE == \"UNTAR\":\n",
        "        runSh(f'tar -C \"{extractPath}\" -xvf \"{PATH_TO_FILE}\"', output=True)\n",
        "    else:\n",
        "        runSh(f'7z x \"{PATH_TO_FILE}\" -o{extractPath} '+passADD, output=True)\n",
        "\n",
        "extractFiles()"
      ]
    },
    {
      "cell_type": "markdown",
      "metadata": {
        "id": "iHyp2Bgkx1B2"
      },
      "source": [
        "## <font size=6>UUP Dump</font>"
      ]
    },
    {
      "cell_type": "code",
      "execution_count": null,
      "metadata": {
        "cellView": "form",
        "id": "uoSecUJvx4za"
      },
      "outputs": [],
      "source": [
        "# ============================= FORM ============================= #\n",
        "# @markdown <font size=5>← Install the Requirements</font>\n",
        "# ================================================================ #\n",
        "\n",
        "import IPython\n",
        "from IPython.display import clear_output\n",
        "\n",
        "!sudo apt-get install aria2 cabextract wimtools chntpw genisoimage\n",
        "!git clone https://github.com/uup-dump/converter \"/content/tools/uup-dump/converter\"\n",
        "\n",
        "clear_output()"
      ]
    },
    {
      "cell_type": "code",
      "execution_count": null,
      "metadata": {
        "cellView": "form",
        "id": "6NqUFFnBx9C5"
      },
      "outputs": [],
      "source": [
        "# ============================= FORM ============================= #\n",
        "# @markdown <font size=5>← [Start] UUP Dump</font>\n",
        "script_location = \"\" #@param {type:\"string\"}\n",
        "# @markdown > Only type in the script's path and exclude the script's name.<br><br>Type in: /content/path/to/script<br>Exclude: uup_download_linux.sh\n",
        "# ================================================================ #\n",
        "\n",
        "if not script_location == \"\":\n",
        "    pass\n",
        "else:\n",
        "    script_location = \"/content\"\n",
        "\n",
        "%cd \"$script_location\"\n",
        "\n",
        "!bash \"uup_download_linux.sh\"\n",
        "\n",
        "%cd \"/content\""
      ]
    },
    {
      "cell_type": "code",
      "execution_count": null,
      "metadata": {
        "id": "KDFWgCYE0ULQ"
      },
      "outputs": [],
      "source": [
        "# ============================= FORM ============================= #\n",
        "# Custom commands goes here\n",
        "# ================================================================ #\n",
        "\n"
      ]
    },
    {
      "cell_type": "markdown",
      "metadata": {
        "id": "6uDnLXX40fv6"
      },
      "source": [
        "TO DO:\n",
        "\n",
        "- Add files and paths checker ot make sure they are exist"
      ]
    }
  ],
  "metadata": {
    "colab": {
      "collapsed_sections": [
        "ygDyFQvR5Gci",
        "e-0yDs4C0HkB",
        "21-Wb8ywqQeJ",
        "r1t2SHxO0xWQ",
        "fy9WgLvs05Ty",
        "GaegjvHPPW9q",
        "4sXeh7Tdx1v-",
        "477G4hACPgqM",
        "YSEyWbWfY9qx",
        "UFQoYxRKAclf",
        "c1N141ZcEdwd",
        "O0NHwsI_-d3W",
        "4DdRcv08fzTG",
        "o_uCXhC1S0GZ",
        "nGKbLp4P8MXi",
        "N09EnjlB6wuV",
        "2b4Igr8g0duu",
        "bZ-Z0cUdz7IL",
        "SD4f3HBhP4Wj",
        "6XzR4IVO5xFr",
        "zNuzXN3KZK1y",
        "ERBVA5aIERou",
        "bEYznPNQ61sm",
        "1mctlRk1TTrc",
        "dEq11jIB5oee",
        "tL-ilxH0N_B9",
        "QOyo5zf4suod",
        "FejGUkxPhDmE",
        "_GVSJ9jdn6lW",
        "OJBVlUw-kKyt",
        "yqY0BtjuGS78",
        "nFrxKe_52fSj",
        "Ssn-ZMNcv5UQ",
        "iLcAVtWT4NTC",
        "bQ73mxqlpNjb",
        "UU-y9pOU4sRB",
        "EpwNYbcfRvcl",
        "yhhow7DvIIUM",
        "TNUbXRhmINoc",
        "_xPOZYzrFiK0",
        "9PVpMPaCFldc",
        "5CWw65NugcjI",
        "3AbFcLJr5PHk",
        "pIk3H6xUic8a",
        "LOmbPf7Tihne",
        "j-PgCLYrZFbm",
        "TgwoGxAitg0y",
        "xmq_9AJCtvlV",
        "nUI7G8OSSXbM",
        "aStiEPlnDoeY",
        "d7hdxEjc-ynr",
        "ZA3K-TtMp3P0",
        "7GA1qMvEp_mp",
        "Jbw2QIUB6JKR",
        "e-OWHJwruE6V",
        "AMu9crpy-7yb",
        "uQT6GEq9Na_E",
        "FdDNhzc0NdeS",
        "_wlFbVS6JcSL",
        "WaSgbPEch7KH",
        "Th3Qyn2uttiW",
        "CKxGMNKUJloT",
        "COqwo7iH6_vu",
        "JM1Do14AKIdF",
        "0vHRnizI9BXA",
        "9JBIZh3OZBaL",
        "2zGMePbPQJWI",
        "eaUJNGmju5G6",
        "xzeZBOnhyKPy",
        "NgCsGSiDu1bY",
        "OOpAjMjxsNd6",
        "SQKIynSiY0pb",
        "UdiQLlm5zX3_",
        "EFOqhHG6hOVH",
        "ey6-UveDalxR",
        "GahMjYf8miNs",
        "NQ0TxfKeghR8",
        "Ja95mvvq8oei",
        "CD36vcpf2FSb",
        "RDHuIkoi6l9a",
        "66I2t2sQ2SMq",
        "NObEcBWAJoaz",
        "FpJXJiRl6-gK",
        "SNDGdMRn3PA-",
        "KFcIThDuBii_",
        "2f-THZmDoOaY",
        "MSUasbRUDP3B",
        "9UagRtLPyKoQ",
        "9ZcgdPBT2SQK",
        "7-3O4en4C4IL",
        "VRk2Ye1exWVA",
        "tozwpAhhnm69",
        "Ts6zYXUdEfrz",
        "FWdEg4H9JlSp",
        "Rd6Br05y7_Ya",
        "7bNutSOeJ1kM",
        "pUODCRACrvGC",
        "5Lo-h1Cnrxou",
        "gdgYuWnst4ed",
        "TxQiE-LXjnAb",
        "JyUn6Yn8lM_c",
        "jmlQ0JeXyH9j",
        "PZrpgJGe59yp",
        "eWs-zl2gNvwW",
        "wBCtu4fMAwRn",
        "um3eitPj0QWG",
        "3PmqhlfgKj85",
        "iHyp2Bgkx1B2"
      ],
      "provenance": [],
      "toc_visible": true,
      "include_colab_link": true
    },
    "gpuClass": "standard",
    "kernelspec": {
      "display_name": "Python 3",
      "name": "python3"
    }
  },
  "nbformat": 4,
  "nbformat_minor": 0
}